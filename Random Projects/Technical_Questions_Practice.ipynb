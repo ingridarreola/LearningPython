{
 "cells": [
  {
   "cell_type": "markdown",
   "metadata": {},
   "source": [
    "Question 2: How would you remove duplicates from a list in Python?"
   ]
  },
  {
   "cell_type": "code",
   "execution_count": 1,
   "metadata": {},
   "outputs": [],
   "source": [
    "my_list = [1, 2, 3, 3, 3, 4, 5, 6]\n",
    "unique = []\n",
    "for item in my_list:\n",
    "    if item not in unique:\n",
    "        unique.append(item)"
   ]
  },
  {
   "cell_type": "code",
   "execution_count": 2,
   "metadata": {},
   "outputs": [
    {
     "name": "stdout",
     "output_type": "stream",
     "text": [
      "[1, 2, 3, 4, 5, 6]\n"
     ]
    }
   ],
   "source": [
    "print(unique)"
   ]
  },
  {
   "cell_type": "markdown",
   "metadata": {},
   "source": [
    "Queston 3: Calculate the factorial of a given positive integer using a recursive function. Write a Python function named factorial_recursive that takes an integer n as its argument and returns the factorial of n.\n",
    "\n",
    "For example, if n is 5, the factorial_recursive function should return 120 (which is 5!)."
   ]
  },
  {
   "cell_type": "code",
   "execution_count": 3,
   "metadata": {},
   "outputs": [],
   "source": [
    "def factorial_recursive(n):\n",
    "    # Base case\n",
    "    if n == 0 or n == 1:\n",
    "        return 1\n",
    "    # Recursive case\n",
    "    else:\n",
    "        return n * factorial_recursive(n - 1)"
   ]
  },
  {
   "cell_type": "code",
   "execution_count": 4,
   "metadata": {},
   "outputs": [
    {
     "name": "stdout",
     "output_type": "stream",
     "text": [
      "120\n",
      "1\n",
      "1\n"
     ]
    }
   ],
   "source": [
    "print(factorial_recursive(5))  # Output: 120\n",
    "print(factorial_recursive(0))  # Output: 1\n",
    "print(factorial_recursive(1))  # Output: 1\n"
   ]
  },
  {
   "cell_type": "markdown",
   "metadata": {},
   "source": [
    "Question 4: List Comprehensions\n",
    "\n",
    "Given a list of numbers, you want to create a new list that contains only the even numbers from the original list. Can you do this using list comprehensions?\n",
    "\n",
    "Here's the original list:\n",
    "\n",
    "numbers = [1, 2, 3, 4, 5, 6, 7, 8, 9, 10]\n",
    "\n",
    "Your task is to create a new list, even_numbers, using a list comprehension that contains only the even numbers from the numbers list."
   ]
  },
  {
   "cell_type": "code",
   "execution_count": 5,
   "metadata": {},
   "outputs": [],
   "source": [
    "numbers = [1, 2, 3, 4, 5, 6, 7, 8, 9, 10]\n",
    "\n",
    "even = [2,4,6,8,10]\n",
    "\n",
    "even_numbers = []\n",
    "for num in numbers:\n",
    "    if num in even:\n",
    "        even_numbers.append(num)"
   ]
  },
  {
   "cell_type": "code",
   "execution_count": 6,
   "metadata": {},
   "outputs": [
    {
     "name": "stdout",
     "output_type": "stream",
     "text": [
      "[2, 4, 6, 8, 10]\n"
     ]
    }
   ],
   "source": [
    "print(even_numbers)"
   ]
  },
  {
   "cell_type": "code",
   "execution_count": null,
   "metadata": {},
   "outputs": [],
   "source": [
    "# using list comprehensions in python ... this would be the better answer\n",
    "\n",
    "numbers = [1, 2, 3, 4, 5, 6, 7, 8, 9, 10]\n",
    "even_numbers = [num for num in numbers if num % 2 == 0]"
   ]
  },
  {
   "cell_type": "markdown",
   "metadata": {},
   "source": [
    "- `for num in numbers`: This part of the statement sets up a loop. It iterates through each element in the numbers list one by one. In this loop, num is a temporary variable that takes on the value of each element in the list during each iteration.\n",
    "- `if num % 2 == 0`: This part is a conditional statement. It checks if the current value of num is even. \n",
    "  - The % operator is used for finding the remainder after division. If num % 2 equals 0, it means num is even.\n",
    "- `[num for num in numbers if num % 2 == 0]`: This is a list comprehension. It creates a new list called even_numbers. \n",
    "  - During each iteration of the loop, if the condition (num % 2 == 0) is met, the current value of num is included in the new list.\n",
    "\n",
    "So, the end result is a list called even_numbers that contains only the even numbers from the numbers list. The list comprehension combines the loop and conditional check into a compact and readable form, making the code more Pythonic."
   ]
  },
  {
   "cell_type": "markdown",
   "metadata": {},
   "source": [
    "Question 5:\n",
    "\n",
    "Write a Python function that takes a list of integers as input and returns a new list that contains only the unique elements in the original list, preserving their original order.\n",
    "\n",
    "For example, if the input list is [1, 2, 2, 3, 4, 4, 5], the function should return [1, 2, 3, 4, 5].\n",
    "\n",
    "Please provide both the function definition and an example of how you would use it with a sample list."
   ]
  },
  {
   "cell_type": "code",
   "execution_count": null,
   "metadata": {},
   "outputs": [],
   "source": [
    "list = [1,2,2,3,4,4,5]\n",
    "\n",
    "def sample_list:\n"
   ]
  },
  {
   "cell_type": "markdown",
   "metadata": {},
   "source": [
    "---\n",
    "\n",
    "Back to Basics"
   ]
  },
  {
   "cell_type": "markdown",
   "metadata": {},
   "source": [
    "if statements"
   ]
  },
  {
   "cell_type": "code",
   "execution_count": 2,
   "metadata": {},
   "outputs": [],
   "source": [
    "n = 1\n",
    "if n >2:\n",
    "    n -= 1\n",
    "elif n == 2:\n",
    "    n *= 2\n",
    "else:\n",
    "    n +=2\n"
   ]
  },
  {
   "cell_type": "markdown",
   "metadata": {},
   "source": [
    "Multi-line conditions -- parenthesis needed"
   ]
  },
  {
   "cell_type": "code",
   "execution_count": 3,
   "metadata": {},
   "outputs": [],
   "source": [
    "n, m = 1, 2\n",
    "if ((n > 2 and n != m) or n == m):\n",
    "    n += 1"
   ]
  },
  {
   "cell_type": "markdown",
   "metadata": {},
   "source": [
    "While loops"
   ]
  },
  {
   "cell_type": "code",
   "execution_count": 1,
   "metadata": {},
   "outputs": [
    {
     "name": "stdout",
     "output_type": "stream",
     "text": [
      "0\n",
      "1\n",
      "2\n",
      "3\n",
      "4\n"
     ]
    }
   ],
   "source": [
    "n = 0\n",
    "while n < 5:\n",
    "    print(n)\n",
    "    n += 1"
   ]
  },
  {
   "cell_type": "markdown",
   "metadata": {},
   "source": [
    "Loops"
   ]
  },
  {
   "cell_type": "code",
   "execution_count": 9,
   "metadata": {},
   "outputs": [
    {
     "name": "stdout",
     "output_type": "stream",
     "text": [
      "0\n",
      "1\n",
      "2\n",
      "3\n",
      "4\n"
     ]
    }
   ],
   "source": [
    "# looping from i = 0 to i = 4\n",
    "# go up until 5 but not including it\n",
    "for i in range(5):\n",
    "    print(i)"
   ]
  },
  {
   "cell_type": "code",
   "execution_count": 10,
   "metadata": {},
   "outputs": [
    {
     "name": "stdout",
     "output_type": "stream",
     "text": [
      "2\n",
      "3\n",
      "4\n",
      "5\n"
     ]
    }
   ],
   "source": [
    "# looping from i = 2 to i = 5\n",
    "# start at 2 and go up until 6 but not includng it\n",
    "for i in range(2, 6):\n",
    "    print(i)"
   ]
  },
  {
   "cell_type": "code",
   "execution_count": 11,
   "metadata": {},
   "outputs": [
    {
     "name": "stdout",
     "output_type": "stream",
     "text": [
      "5\n",
      "4\n",
      "3\n"
     ]
    }
   ],
   "source": [
    "# looping from i = 5 to i = 2\n",
    "# start at 5 and go up until 2 but not including it, then go down by 1\n",
    "for i in range(5, 2, -1):\n",
    "    print(i)"
   ]
  },
  {
   "cell_type": "markdown",
   "metadata": {},
   "source": [
    "Modding"
   ]
  },
  {
   "cell_type": "code",
   "execution_count": 12,
   "metadata": {},
   "outputs": [
    {
     "name": "stdout",
     "output_type": "stream",
     "text": [
      "1\n"
     ]
    }
   ],
   "source": [
    "print(10 % 3)"
   ]
  },
  {
   "cell_type": "markdown",
   "metadata": {},
   "source": [
    "Lists"
   ]
  },
  {
   "cell_type": "code",
   "execution_count": 14,
   "metadata": {},
   "outputs": [
    {
     "name": "stdout",
     "output_type": "stream",
     "text": [
      "[1, 2, 3]\n",
      "[1, 2, 3, 4, 5]\n"
     ]
    }
   ],
   "source": [
    "# Arrays (a.k.a. lists)\n",
    "arr = [1,2,3]\n",
    "print(arr)\n",
    "\n",
    "# can be used as a stack\n",
    "arr.append(4)\n",
    "arr.append(5)\n",
    "print(arr)"
   ]
  },
  {
   "cell_type": "code",
   "execution_count": 15,
   "metadata": {},
   "outputs": [
    {
     "name": "stdout",
     "output_type": "stream",
     "text": [
      "[1, 2, 3, 4]\n"
     ]
    }
   ],
   "source": [
    "arr.pop()\n",
    "print(arr)"
   ]
  },
  {
   "cell_type": "code",
   "execution_count": 16,
   "metadata": {},
   "outputs": [
    {
     "name": "stdout",
     "output_type": "stream",
     "text": [
      "[1, 5, 2, 3, 4]\n"
     ]
    }
   ],
   "source": [
    "# at index 1 insert value of 5\n",
    "arr.insert(1, 5)\n",
    "print(arr)"
   ]
  },
  {
   "cell_type": "code",
   "execution_count": 18,
   "metadata": {},
   "outputs": [
    {
     "name": "stdout",
     "output_type": "stream",
     "text": [
      "[0, 5, 2, 3, 4]\n"
     ]
    }
   ],
   "source": [
    "# more efficient to index an array\n",
    "\n",
    "arr[0] = 0\n",
    "print(arr)"
   ]
  },
  {
   "cell_type": "code",
   "execution_count": 19,
   "metadata": {},
   "outputs": [
    {
     "name": "stdout",
     "output_type": "stream",
     "text": [
      "1\n",
      "2\n",
      "3\n",
      "1\n",
      "2\n",
      "3\n"
     ]
    }
   ],
   "source": [
    "# loop through arrays\n",
    "nums = [1,2,3]\n",
    "\n",
    "# using index\n",
    "for i in range(len(nums)): \n",
    "    print(nums[i])\n",
    "\n",
    "# without index\n",
    "for n in nums:\n",
    "    print(n)"
   ]
  },
  {
   "cell_type": "code",
   "execution_count": 21,
   "metadata": {},
   "outputs": [
    {
     "name": "stdout",
     "output_type": "stream",
     "text": [
      "[3, 4, 5, 7, 8]\n",
      "[8, 7, 5, 4, 3]\n"
     ]
    }
   ],
   "source": [
    "# sorting an array\n",
    "\n",
    "arr = [5,4,7,3,8]\n",
    "\n",
    "#sorts in ascending by default\n",
    "arr.sort()\n",
    "print(arr)\n",
    "\n",
    "#can sort by descending\n",
    "arr.sort(reverse=True)\n",
    "print(arr)"
   ]
  },
  {
   "cell_type": "code",
   "execution_count": 25,
   "metadata": {},
   "outputs": [
    {
     "name": "stdout",
     "output_type": "stream",
     "text": [
      "ab\n",
      "abcdef\n"
     ]
    }
   ],
   "source": [
    "# strings are similar to arrays\n",
    "s = \"abc\"\n",
    "\n",
    "# start at index 0, up until but not including 2\n",
    "print(s[0:2])\n",
    "\n",
    "# they are immutable -- can't be changed\n",
    "# can't reassign a character\n",
    "#s[0] = \"A\"\n",
    "\n",
    "# But can create a new string\n",
    "s += \"def\"\n",
    "print(s)\n",
    "\n",
    "# Strings can be converted to "
   ]
  },
  {
   "cell_type": "markdown",
   "metadata": {},
   "source": [
    "Dictionaries"
   ]
  },
  {
   "cell_type": "code",
   "execution_count": 26,
   "metadata": {},
   "outputs": [
    {
     "name": "stdout",
     "output_type": "stream",
     "text": [
      "{'alice': 88, 'tim': 77}\n",
      "2\n"
     ]
    }
   ],
   "source": [
    "# Dictionary (a.k.a. hash map)\n",
    "my = {}\n",
    "my[\"alice\"] = 88\n",
    "my[\"tim\"] = 77\n",
    "print(my)\n",
    "print(len(my))"
   ]
  },
  {
   "cell_type": "code",
   "execution_count": 27,
   "metadata": {},
   "outputs": [
    {
     "name": "stdout",
     "output_type": "stream",
     "text": [
      "80\n"
     ]
    }
   ],
   "source": [
    "# we can change values\n",
    "my[\"alice\"] = 80\n",
    "print(my[\"alice\"])"
   ]
  },
  {
   "cell_type": "code",
   "execution_count": 28,
   "metadata": {},
   "outputs": [
    {
     "name": "stdout",
     "output_type": "stream",
     "text": [
      "True\n",
      "False\n"
     ]
    }
   ],
   "source": [
    "#boolean to check for a value in dictionary\n",
    "print(\"alice\" in my)\n",
    "\n",
    "#can remove items from dictionary\n",
    "my.pop(\"alice\")\n",
    "\n",
    "#boolean confirms what we have done\n",
    "print(\"alice\" in my)"
   ]
  },
  {
   "cell_type": "markdown",
   "metadata": {},
   "source": [
    "Tuples"
   ]
  },
  {
   "cell_type": "code",
   "execution_count": 30,
   "metadata": {},
   "outputs": [
    {
     "name": "stdout",
     "output_type": "stream",
     "text": [
      "(1, 2, 3)\n",
      "1\n",
      "3\n",
      "3\n"
     ]
    }
   ],
   "source": [
    "#tuples are like arrays but immutable\n",
    "tup = (1,2,3)\n",
    "print(tup)\n",
    "print(tup[0])\n",
    "print(tup[-1])\n",
    "\n",
    "#can't modify it\n",
    "#mainly use it as a key for a dictionary or set\n",
    "\n",
    "my = {(1,2): 3}\n",
    "print(my[(1,2)])"
   ]
  },
  {
   "cell_type": "markdown",
   "metadata": {},
   "source": [
    "Function"
   ]
  },
  {
   "cell_type": "code",
   "execution_count": 32,
   "metadata": {},
   "outputs": [
    {
     "name": "stdout",
     "output_type": "stream",
     "text": [
      "6\n"
     ]
    }
   ],
   "source": [
    "# start with def\n",
    "def myFunc(n,m):\n",
    "    return n * m\n",
    "\n",
    "print(myFunc(2,3))"
   ]
  },
  {
   "cell_type": "code",
   "execution_count": 33,
   "metadata": {},
   "outputs": [
    {
     "name": "stdout",
     "output_type": "stream",
     "text": [
      "abc\n"
     ]
    }
   ],
   "source": [
    "# nested functions have access to outer variables\n",
    "\n",
    "def outer(a,b):\n",
    "    c = \"c\"\n",
    "\n",
    "    def inner():\n",
    "        return a + b + c\n",
    "    return inner()\n",
    "\n",
    "\n",
    "print(outer(\"a\", \"b\"))"
   ]
  },
  {
   "cell_type": "markdown",
   "metadata": {},
   "source": [
    "Class"
   ]
  },
  {
   "cell_type": "code",
   "execution_count": null,
   "metadata": {},
   "outputs": [],
   "source": [
    "# Class\n",
    "# Constructor is -->  __init__\n",
    "class MyClass:\n",
    "    #Constructor\n",
    "    #self is passed in each method of a class\n",
    "    def __init__(self, nums):\n",
    "        #Create member variables\n",
    "        self.nums = nums\n",
    "        self.size = len(nums)\n",
    "\n",
    "    # create a method\n",
    "    # self key work required as parameter\n",
    "    def getLength(self):\n",
    "        return self.size\n",
    "\n",
    "    # call a member function\n",
    "    def getDoubleLength(self):\n",
    "        return 2 * self.getLength()"
   ]
  },
  {
   "cell_type": "markdown",
   "metadata": {},
   "source": []
  }
 ],
 "metadata": {
  "kernelspec": {
   "display_name": "Python 3",
   "language": "python",
   "name": "python3"
  },
  "language_info": {
   "codemirror_mode": {
    "name": "ipython",
    "version": 3
   },
   "file_extension": ".py",
   "mimetype": "text/x-python",
   "name": "python",
   "nbconvert_exporter": "python",
   "pygments_lexer": "ipython3",
   "version": "3.10.1"
  }
 },
 "nbformat": 4,
 "nbformat_minor": 2
}
