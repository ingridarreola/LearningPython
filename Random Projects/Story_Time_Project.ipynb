{
 "cells": [
  {
   "cell_type": "markdown",
   "metadata": {},
   "source": [
    "# Random Generator to Read \n",
    "I want to read the books that I buy and never seem to because I get distracted. I'd rather just have something else just tell me -- at random -- which book to read for the day. This feels like the perfect opportunity to use Python and learn something new along the way."
   ]
  },
  {
   "cell_type": "code",
   "execution_count": 1,
   "metadata": {},
   "outputs": [],
   "source": [
    "import random"
   ]
  },
  {
   "cell_type": "code",
   "execution_count": 14,
   "metadata": {},
   "outputs": [
    {
     "name": "stdout",
     "output_type": "stream",
     "text": [
      "That's the thing about books. They let you travel without moving your feet - Jhumpa Lahiri. \n",
      " Read Data Sketches today.\n"
     ]
    }
   ],
   "source": [
    "# Creating a list of all the books that I'd like to eventually finish reading\n",
    "\n",
    "books = ['Data Sketches', 'Innovative Tableau', 'Tableau Strategies', 'Race After Technology', 'Data Feminism', 'W.E.B Du Bois Data Portraits: Visualizing Black America', 'Data Story', 'Algorithms of Oppression', 'Weapons of Math Destruction', 'Automating Inequality']\n",
    "\n",
    "random_book = random.choice(books)\n",
    "\n",
    "print('That\\'s the thing about books. They let you travel without moving your feet - Jhumpa Lahiri. \\n Read {}'.format(random_book),'today.')"
   ]
  }
 ],
 "metadata": {
  "interpreter": {
   "hash": "aee8b7b246df8f9039afb4144a1f6fd8d2ca17a180786b69acc140d282b71a49"
  },
  "kernelspec": {
   "display_name": "Python 3.10.1 64-bit",
   "language": "python",
   "name": "python3"
  },
  "language_info": {
   "codemirror_mode": {
    "name": "ipython",
    "version": 3
   },
   "file_extension": ".py",
   "mimetype": "text/x-python",
   "name": "python",
   "nbconvert_exporter": "python",
   "pygments_lexer": "ipython3",
   "version": "3.10.1"
  },
  "orig_nbformat": 4
 },
 "nbformat": 4,
 "nbformat_minor": 2
}
