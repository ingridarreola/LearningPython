{
 "cells": [
  {
   "cell_type": "markdown",
   "metadata": {},
   "source": [
    "# Random Generator to Read \n",
    "I want to read the books that I buy and never seem to because I get distracted. I'd rather just have something else just tell me -- at random -- which book to read for the day. This feels like the perfect opportunity to use Python and learn something new along the way."
   ]
  },
  {
   "cell_type": "code",
   "execution_count": 1,
   "metadata": {},
   "outputs": [],
   "source": [
    "import random"
   ]
  },
  {
   "cell_type": "code",
   "execution_count": 2,
   "metadata": {},
   "outputs": [
    {
     "name": "stdout",
     "output_type": "stream",
     "text": [
      "That's the thing about books. They let you travel without moving your feet - Jhumpa Lahiri. \n",
      " Read Innovative Tableau today.\n"
     ]
    }
   ],
   "source": [
    "# Creating a list of all the books that I'd like to eventually finish reading\n",
    "\n",
    "books = ['Data Sketches', 'Innovative Tableau', 'Tableau Strategies', 'Race After Technology', 'Data Feminism', 'W.E.B Du Bois Data Portraits: Visualizing Black America', 'Data Story', 'Algorithms of Oppression', 'Weapons of Math Destruction', 'Automating Inequality']\n",
    "\n",
    "random_book = random.choice(books)\n",
    "\n",
    "print('That\\'s the thing about books. They let you travel without moving your feet - Jhumpa Lahiri. \\n Read {}'.format(random_book),'today.')"
   ]
  },
  {
   "cell_type": "markdown",
   "metadata": {},
   "source": [
    "# Random Generator for Pomodoro Tasks\n",
    "Decision fatigue is “the idea that after making many decisions, your ability to make more and more decisions over the course of a day becomes worse. By the time the average person goes to bed, they’ve made over 35,000 decisions and all of those decisions take time and energy, and certainly can deplete us.”  Dr. MacLean\n",
    "\n",
    "I want to learn each day. I've set up goals on what topics and what learning platforms I'll use. The issue I run into is that I get decision fatigue and don't know where to start amidst the multiple goals I have throughout a week. I'd like some help in this area, by removing the decisions and having them chosen at random. \n",
    "\n",
    "There may be one core topic that I have to do -- i.e. statistics since I'm taking a grad level course -- however there are other areas that I could go either direction in my learning."
   ]
  },
  {
   "cell_type": "code",
   "execution_count": 4,
   "metadata": {},
   "outputs": [
    {
     "name": "stdout",
     "output_type": "stream",
     "text": [
      "Today you'll be working on ['Data Camp']\n",
      "{}.format(goals)\n",
      "Today you'll be working on ['Obsidian']\n",
      "{}.format(goals)\n"
     ]
    }
   ],
   "source": [
    "# The list of goals that I have, the amount of pomodoro's that get done with each vary quite a bit \n",
    "projects = ['Codeacademy', 'Pluralsight', 'Data Camp', 'Tableau Project', 'Preppin\\' Data', 'Tableau Certification', 'Data Literacy', 'Read a Book', 'Obsidian']\n",
    "\n",
    "for pomodoro in range(2):\n",
    "    goals = random.sample(projects, k=1)\n",
    "    message = 'Today you\\'ll be working on'\n",
    "\n",
    "    print(f'{message} {goals}')"
   ]
  }
 ],
 "metadata": {
  "interpreter": {
   "hash": "aee8b7b246df8f9039afb4144a1f6fd8d2ca17a180786b69acc140d282b71a49"
  },
  "kernelspec": {
   "display_name": "Python 3.10.1 64-bit",
   "language": "python",
   "name": "python3"
  },
  "language_info": {
   "codemirror_mode": {
    "name": "ipython",
    "version": 3
   },
   "file_extension": ".py",
   "mimetype": "text/x-python",
   "name": "python",
   "nbconvert_exporter": "python",
   "pygments_lexer": "ipython3",
   "version": "3.10.1"
  },
  "orig_nbformat": 4
 },
 "nbformat": 4,
 "nbformat_minor": 2
}
