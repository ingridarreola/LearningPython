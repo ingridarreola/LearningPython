{
 "cells": [
  {
   "cell_type": "markdown",
   "metadata": {},
   "source": [
    "# Stay Focused\n",
    "\n",
    "Decision fatigue is “the idea that after making many decisions, your ability to make more and more decisions over the course of a day becomes worse. By the time the average person goes to bed, they’ve made over 35,000 decisions and all of those decisions take time and energy, and certainly can deplete us.”  Dr. MacLean\n",
    "\n",
    "I want to learn each day. I've set up goals on what topics and what learning platforms I'll use. The issue I run into is that I get decision fatigue and don't know where to start amidst the multiple goals I have throughout a week. I'd like some help in this area, by removing the decisions and having them chosen at random. \n",
    "\n",
    "There may be one core topic that I have to do -- i.e. statistics since I'm taking a grad level course -- however there are other areas that I could go either direction in my learning."
   ]
  },
  {
   "cell_type": "markdown",
   "metadata": {},
   "source": [
    "## Using Random"
   ]
  },
  {
   "cell_type": "code",
   "execution_count": 78,
   "metadata": {},
   "outputs": [],
   "source": [
    "import random"
   ]
  },
  {
   "cell_type": "markdown",
   "metadata": {},
   "source": [
    "## Using a function\n",
    "Mostly works but I am using *next* to call the function each time and randomly select a task. Don't really like that about this."
   ]
  },
  {
   "cell_type": "code",
   "execution_count": 79,
   "metadata": {},
   "outputs": [
    {
     "name": "stdout",
     "output_type": "stream",
     "text": [
      "Work on ['P', 'l', 'u', 'r', 'a', 'l', 's', 'i', 'g', 'h', 't'] today.\n",
      "None\n"
     ]
    }
   ],
   "source": [
    "# The list of goals that I have, the amount of pomodoro's that get done with each vary quite a bit \n",
    "projects = ['Codeacademy', 'Pluralsight', 'Data Camp', 'Tableau Project', 'Preppin\\' Data', 'Tableau Certification', 'Data Literacy' 'Read a Book']\n",
    "\n",
    "def pomodoro():\n",
    "    goals = []\n",
    "\n",
    "    goals += random.choice(projects)\n",
    "    yield (print('Work on {}'.format(goals), 'today.'))\n",
    "\n",
    "    goals += random.choice(projects)\n",
    "    yield('Your next pomodoro will be: {}.format(goals), get to work.')\n",
    "\n",
    "    goals += random.choice(projects)\n",
    "    yield('Your next pomodoro will be: {}.format(goals), get to work.')\n",
    "\n",
    "tasks = pomodoro()\n",
    "print(next(tasks))\n",
    "#print(next(tasks))\n",
    "#print(next(tasks))"
   ]
  },
  {
   "cell_type": "markdown",
   "metadata": {},
   "source": [
    "## Using a Function V2\n",
    "This is better because it just chooses a unique project with *random.sample* however the *k* lets me choose how many unique tasks to work on. It works as well but I would have to edit the *k* number to match the tasks I'd be working on for the day."
   ]
  },
  {
   "cell_type": "code",
   "execution_count": 80,
   "metadata": {},
   "outputs": [
    {
     "name": "stdout",
     "output_type": "stream",
     "text": [
      "['Pluralsight', 'Data Literacy']\n",
      "None\n"
     ]
    }
   ],
   "source": [
    "# The list of goals that I have, the amount of pomodoro's that get done with each vary quite a bit \n",
    "projects = ['Codeacademy', 'Pluralsight', 'Data Camp', 'Tableau Project', 'Preppin\\' Data', 'Tableau Certification', 'Data Literacy', 'Read a Book']\n",
    "\n",
    "def pomodoro():\n",
    "    goals = random.sample(projects, k=2)\n",
    "    print(goals)\n",
    "\n",
    "# print('Work on', pomodoro(), 'today')\n",
    "print(pomodoro())"
   ]
  },
  {
   "cell_type": "markdown",
   "metadata": {},
   "source": [
    "---"
   ]
  },
  {
   "cell_type": "markdown",
   "metadata": {},
   "source": [
    "## **Using a for loop**\n",
    "\n",
    "This feels better because this is going to create a loop and print out a nice message for myself, again the thing that would have to be changed is the value after *range* which tells it how many times to run through the loop. Getting closer to what I want."
   ]
  },
  {
   "cell_type": "code",
   "execution_count": 81,
   "metadata": {},
   "outputs": [
    {
     "name": "stdout",
     "output_type": "stream",
     "text": [
      "Today you'll be working on ['Read a Book']\n",
      "Today you'll be working on ['Data Camp']\n"
     ]
    }
   ],
   "source": [
    "# The list of goals that I have, the amount of pomodoro's that get done with each vary quite a bit \n",
    "projects = ['Codeacademy', 'Pluralsight', 'Data Camp', 'Tableau Project', 'Preppin\\' Data', 'Tableau Certification', 'Data Literacy', 'Read a Book']\n",
    "\n",
    "for pomodoro in range(2):\n",
    "    goals = random.sample(projects, k=1)\n",
    "    message = 'Today you\\'ll be working on'\n",
    "\n",
    "    print(f'{message} {goals}')"
   ]
  },
  {
   "cell_type": "markdown",
   "metadata": {},
   "source": [
    "---\n",
    "\n",
    "This is pretty similar to a previous try, however it is using a for loop inside of the function. And I'm having to do the *next* to call on this function each time I'd like to get a unique task. Don't think this is what I want."
   ]
  },
  {
   "cell_type": "code",
   "execution_count": 73,
   "metadata": {},
   "outputs": [
    {
     "name": "stdout",
     "output_type": "stream",
     "text": [
      "['Codeacademy']\n",
      "['Data Camp']\n",
      "[\"Preppin' Data\"]\n"
     ]
    }
   ],
   "source": [
    "# The list of goals that I have, the amount of pomodoro's that get done with each vary quite a bit \n",
    "projects = ['Codeacademy', 'Pluralsight', 'Data Camp', 'Tableau Project', 'Preppin\\' Data', 'Tableau Certification', 'Data Literacy', 'Read a Book']\n",
    "\n",
    "def pomodoro(projects):\n",
    "    for i in projects:\n",
    "        yield (random.sample(projects, k=1))\n",
    "\n",
    "print (next(pomodoro(projects)))\n",
    "print (next(pomodoro(projects)))\n",
    "print (next(pomodoro(projects)))"
   ]
  }
 ],
 "metadata": {
  "interpreter": {
   "hash": "aee8b7b246df8f9039afb4144a1f6fd8d2ca17a180786b69acc140d282b71a49"
  },
  "kernelspec": {
   "display_name": "Python 3.10.1 64-bit",
   "language": "python",
   "name": "python3"
  },
  "language_info": {
   "codemirror_mode": {
    "name": "ipython",
    "version": 3
   },
   "file_extension": ".py",
   "mimetype": "text/x-python",
   "name": "python",
   "nbconvert_exporter": "python",
   "pygments_lexer": "ipython3",
   "version": "3.10.1"
  },
  "orig_nbformat": 4
 },
 "nbformat": 4,
 "nbformat_minor": 2
}
