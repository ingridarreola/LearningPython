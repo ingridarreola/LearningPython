{
 "cells": [
  {
   "cell_type": "markdown",
   "metadata": {},
   "source": [
    "# Expectation of the Poisson Distribution\n",
    "\n",
    "Earlier, we mentioned that the parameter lambda (λ) is the expected value (or average value) of the Poisson distribution. But what does this mean?\n",
    "\n",
    "Let’s put this into context: let’s say we are salespeople, and after many weeks of work, we calculate our average to be 10 sales per week. If we take this value to be our expected value of a Poisson Distribution, the probability mass function will look as follows:\n",
    "\n",
    "![poisson_pmf](https://raw.githubusercontent.com/ingridarreola/LearningPython/00082b180dc5fff9a7febd99a06db0e0a3a049e7/Probability/poisson_10_pmf_red.svg)\n",
    "\n",
    "The tallest bar represents the value with the highest probability of occurring. In this case, the tallest bar is at 10. This does not, however, mean that we will make 10 sales. It means that on average, across all weeks, we expect our average to equal about 10 sales per week.\n",
    "\n",
    "Let’s look at this another way. Let’s take a sample of 1000 random values from the Poisson distribution with the expected value of 10. We can use the poisson.rvs() method in the scipy.stats library to generate random values:\n",
    "\n",
    "```\n",
    "import scipy.stats as stats\n",
    " \n",
    "# generate random variable\n",
    "# stats.poisson.rvs(lambda, size = num_values)\n",
    "rvs = stats.poisson.rvs(10, size = 1000)\n",
    "```\n",
    "\n",
    "The histogram of this sampling looks like the following:\n",
    "\n",
    "![pmf_2](https://raw.githubusercontent.com/ingridarreola/LearningPython/00082b180dc5fff9a7febd99a06db0e0a3a049e7/Probability/poisson_10_1000samp.svg)\n",
    "\n",
    "We can see observations of as low as 2 but as high as 20. The tallest bars are at 9 and 10. If we took the average of the 1000 random samples, we would get:\n",
    "\n",
    "`print(rvs.mean())`\n",
    "\n",
    "- Output: 10.009\n",
    "\n",
    "This value is very close to 10, confirming that over the 1000 observations, the expected value (or average) is 10.\n",
    "\n",
    "When we talk about the expected value, we mean the average over many observations. This relates to the Law of Large Numbers: the more samples we have, the more likely samples will resemble the true population, and the mean of the samples will approach the expected value. So even though the salesperson may make 3 sales one week, they may make 16 the next, and 11 the week after. In the long run, after many weeks, the expected value (or average) would still be 10."
   ]
  },
  {
   "cell_type": "markdown",
   "metadata": {},
   "source": [
    "#### Uncomment rand_vars and set it equal to 1000 random variates from the Poisson distribution with lambda equal to 15. Calculate and print the mean rand_vars."
   ]
  },
  {
   "cell_type": "code",
   "execution_count": 1,
   "metadata": {},
   "outputs": [
    {
     "name": "stdout",
     "output_type": "stream",
     "text": [
      "[12 16 14 17 22  8 12 16 14 17 11 20 13 20 22 18 15  9 19 11 13  9 15  5\n",
      " 12 16 19 15 11 11 17  9 17 11 14 19 14 15 15 10 10 18 16 24 19 11 19 20\n",
      " 15 16  9 14 16 14 10 10 12 10 19 16 15 13 14 16 12 12 10 18 14 18 11 14\n",
      " 17 14 22 13 13 16 17 18 15 15 14 15 22 26 17 12 12 12 20 14  7 14 13 19\n",
      " 19 15 14 17 20 13 18 12 11 12 19 12 13 12 15 11 13 12 12 13 18 15 22  8\n",
      " 10 13 15 15 11 14 23 15 12 16 14 20 17 14 16 20 16 21 15 12 18 13 13 10\n",
      " 24 16 17 18 18 16 19 11 17 14 16 11 19 13  9 14 17 14 17 15 21 12  7 20\n",
      " 18 13 13 12  9 14 20 17 18 18 22 15 13 22 12 12 15 19 21 14 15  9 11 15\n",
      " 13 11 18 10 18 13 11 11 11 12 12 12 12 14 12 14 16  8 16 13 16 17 10 15\n",
      "  8  7 17 19 25 17 17 14 17 16 13 18 16 18 16  6 13 18 12 10  7 17 10 18\n",
      " 15 16 18 17 16 13 21 17 12 14 11 20 25 13 13 15 21 13 12 12 10 13 14 21\n",
      " 11 11 24 14 14 10 14 11 10 16 14 16 18 14 12 14 17 18 22 15 15  9 12  9\n",
      " 10 14 20 16 17 11 12 20 12 14  9 20 21 12 13  8 16 12 16 16 13 15 16 10\n",
      "  7 11 10 14 19 13 10 16 11 12 16 15 15 18  9 24 18 14 14 11 10 13  9 17\n",
      " 13 18 17 18 17 10 18 18 15 22 21 14 12 23 17 17 17  7 12 14 15 14 12 21\n",
      " 14 14 18 20 15 15 15 18 15 16 14 20 19 16 16  9 18 20 14  8 11 15 19 24\n",
      " 25 19 16 21 17  9  9 12 21 11  8 18 16 11 17 27 13 10 19 15 13 17 17 17\n",
      " 16 14 18 20 10  9 15  8 11 25 14 11 17 17 16 15 15 14 13 13 15 15 17 20\n",
      " 18 18 12  5 21 19 19 21 14 12 14 16 13  9 28 17 16 14 15 12 27 21 13 15\n",
      " 13 14 12 20 21 13 11 15 18 13 11 13 11 19 16 20 13 15 15 20  9 19 13 12\n",
      " 15 14 12 15  9 10 13 12 16 29 17 13 17 15 18 13 13 18 18  7 11 13 22 19\n",
      " 18 18 17 14 13  6 20 14 11 12 16 19 12 18 11 14 22 19 12 16  7  9 10 18\n",
      " 12 14 18 14 18 19  9 18 19 21 21 14  7 16 20 16 12 12 16 13 18 18 12 16\n",
      " 15  9 14 17 16 11 13 16 18 12 13 19 14 20 14 12 21 14 19 15 15 12 11  9\n",
      " 16 15 11 12 12 23 12 15 16 13 20 14 12 18 10 17  7 12 11 13 15 14 17 20\n",
      " 20 15 16 20  9 14 12 16 17 18 10 19 21 15 15 13  9 15 21 20 15 12 14 18\n",
      " 14 15 14 17 23 16 20 13 10  7 16 13 19 18 16 15 12 20 15 16 14 19 14 16\n",
      "  9 15  8 16 15 12 13 17 11 20 14 13  9 15 15 12 13 13 20 10 15 19 20 14\n",
      " 12 18 13 16 20 19 12 19 14 20 14 19 13 18 13  6 12 10 15 17 16 21 21 15\n",
      " 14 17  7 16 16 10 21 20 15 16 10 14 15 18 12 19 10 16 15 11 20 17 20 15\n",
      " 23 16 23 12 12 24 13 13 15 11 18 21 16 18 12 17 13 13 17 14 18 13 17 17\n",
      "  5 11 20 15 12 16 11 10 21 25 20 14 17 17 15 18 14  9 14 21 15 17 18 17\n",
      " 13 11 18 15 12 23 15 18 14 13 15 17 20 18 14 17 19 14 21 10 22 10 13  9\n",
      " 17 15  6 20 20 15 14 12 13 20 16 16 12 14 13 16 19 20  9 12 16 18 12 18\n",
      " 21 18 15 14 15  8 18 15 13 11 11 23 14 14 13 19 11 19 18 15 23 14 11 10\n",
      " 17 15 10 18 14 11 13 10 17 17 14 10 15 13 16 14 14  9 13 12 14 18  7 13\n",
      " 14 11 12 12 13 16 15 14 13 18 12 15 18 14 13 12 26 12 27 14 13 19 18 24\n",
      " 15 10 12  9 20 23 12 16 13 14 21 14 11 18 18  8 15 23  4 11 16 20 10 16\n",
      " 16 16 11 13 10 17 18 16 16 13 20 18 15  6 10 11 19 10 12 20 16 12 25 10\n",
      " 24 18 19 16 22 15 14 11 15 25 24 13 11 18 17 14 16 21 11 14 16 20  8 11\n",
      " 11 12 15  8 19 15 10 12 15 18 15 16 17 11  8 16 16 13 15  8 11 16 11 12\n",
      "  7 16 14 11 12 15 16 11 16 17 18 24 17 11 16 16]\n"
     ]
    }
   ],
   "source": [
    "import scipy.stats as stats\n",
    "\n",
    "## Checkpoint 1\n",
    "# lambda = 15, 1000 random draws\n",
    "#  stats.poisson.rvs(lambda, size = num_values)\n",
    "rand_vars = stats.poisson.rvs(15, size = 1000)\n",
    "\n",
    "## Checkpoint 2\n",
    "# print the mean of rand_vars\n",
    "print(rand_vars)"
   ]
  },
  {
   "cell_type": "markdown",
   "metadata": {},
   "source": [
    "#### We can visualize the previous output with a histogram so that we don't exceed the size limit...we do this by creating a function that takes in a list of random variables and plots them to a histogram. `histogram_function` function with `rand_vars` as the argument to produce the histogram of the data."
   ]
  },
  {
   "cell_type": "code",
   "execution_count": 3,
   "metadata": {},
   "outputs": [
    {
     "name": "stdout",
     "output_type": "stream",
     "text": [
      "Collecting matplotlib\n",
      "  Downloading matplotlib-3.5.1-cp310-cp310-macosx_11_0_arm64.whl (7.2 MB)\n",
      "     |████████████████████████████████| 7.2 MB 850 kB/s            \n",
      "\u001b[?25hCollecting kiwisolver>=1.0.1\n",
      "  Downloading kiwisolver-1.3.2-cp310-cp310-macosx_11_0_arm64.whl (59 kB)\n",
      "     |████████████████████████████████| 59 kB 16.0 MB/s             \n",
      "\u001b[?25hRequirement already satisfied: python-dateutil>=2.7 in /Library/Frameworks/Python.framework/Versions/3.10/lib/python3.10/site-packages (from matplotlib) (2.8.2)\n",
      "Collecting cycler>=0.10\n",
      "  Downloading cycler-0.11.0-py3-none-any.whl (6.4 kB)\n",
      "Requirement already satisfied: numpy>=1.17 in /Library/Frameworks/Python.framework/Versions/3.10/lib/python3.10/site-packages (from matplotlib) (1.22.1)\n",
      "Requirement already satisfied: pyparsing>=2.2.1 in /Library/Frameworks/Python.framework/Versions/3.10/lib/python3.10/site-packages (from matplotlib) (3.0.6)\n",
      "Collecting pillow>=6.2.0\n",
      "  Downloading Pillow-9.0.1-1-cp310-cp310-macosx_11_0_arm64.whl (2.7 MB)\n",
      "     |████████████████████████████████| 2.7 MB 1.6 MB/s            \n",
      "\u001b[?25hRequirement already satisfied: packaging>=20.0 in /Library/Frameworks/Python.framework/Versions/3.10/lib/python3.10/site-packages (from matplotlib) (21.3)\n",
      "Collecting fonttools>=4.22.0\n",
      "  Downloading fonttools-4.30.0-py3-none-any.whl (898 kB)\n",
      "     |████████████████████████████████| 898 kB 29.3 MB/s            \n",
      "\u001b[?25hRequirement already satisfied: six>=1.5 in /Library/Frameworks/Python.framework/Versions/3.10/lib/python3.10/site-packages (from python-dateutil>=2.7->matplotlib) (1.16.0)\n",
      "Installing collected packages: pillow, kiwisolver, fonttools, cycler, matplotlib\n",
      "Successfully installed cycler-0.11.0 fonttools-4.30.0 kiwisolver-1.3.2 matplotlib-3.5.1 pillow-9.0.1\n",
      "\u001b[33mWARNING: You are using pip version 21.3.1; however, version 22.0.4 is available.\n",
      "You should consider upgrading via the '/usr/local/bin/python3 -m pip install --upgrade pip' command.\u001b[0m\n",
      "Note: you may need to restart the kernel to use updated packages.\n"
     ]
    }
   ],
   "source": [
    "pip install matplotlib"
   ]
  },
  {
   "cell_type": "code",
   "execution_count": 5,
   "metadata": {},
   "outputs": [
    {
     "data": {
      "image/png": "[encoded data removed]",
      "text/plain": [
       "<Figure size 432x288 with 1 Axes>"
      ]
     },
     "metadata": {
      "needs_background": "light"
     },
     "output_type": "display_data"
    }
   ],
   "source": [
    "import matplotlib.pyplot as plt\n",
    "import numpy as np\n",
    "\n",
    "def histogram_function(rand_vars):\n",
    "  plt.hist(rand_vars, bins = np.arange(len(set(rand_vars)))-0.5, edgecolor = \"black\")\n",
    "  plt.xticks(list(range(rand_vars.max())))\n",
    "  plt.show()\n",
    "\n",
    "## Checkpoint 3\n",
    "histogram_function(rand_vars)  "
   ]
  },
  {
   "cell_type": "markdown",
   "metadata": {},
   "source": [
    "**Source = Codeacademy**"
   ]
  }
 ],
 "metadata": {
  "interpreter": {
   "hash": "aee8b7b246df8f9039afb4144a1f6fd8d2ca17a180786b69acc140d282b71a49"
  },
  "kernelspec": {
   "display_name": "Python 3.10.1 64-bit",
   "language": "python",
   "name": "python3"
  },
  "language_info": {
   "codemirror_mode": {
    "name": "ipython",
    "version": 3
   },
   "file_extension": ".py",
   "mimetype": "text/x-python",
   "name": "python",
   "nbconvert_exporter": "python",
   "pygments_lexer": "ipython3",
   "version": "3.10.1"
  },
  "orig_nbformat": 4
 },
 "nbformat": 4,
 "nbformat_minor": 2
}
