{
 "cells": [
  {
   "cell_type": "markdown",
   "metadata": {},
   "source": [
    "# Central Limit Theorem\n",
    "\n",
    "The Central Limit Theorem (CLT) allows us to specifically describe the sampling distribution of the mean.\n",
    "\n",
    "The CLT states that the sampling distribution of the mean is normally distributed as long as the population is not too skewed or the sample size is large enough. Using a sample size of n > 30 is usually a good rule of thumb, regardless of what the distribution of the population is like. If the distribution of the population is normal, the sample size can be smaller than that.\n",
    "\n",
    "The CLT not only establishes that the sampling distribution will be normally distributed, but it also allows us to describe that normal distribution quantitatively. Normal distributions are described by their mean μ (mu) and standard deviation σ (sigma).\n",
    "\n",
    "Let’s break this up:\n",
    "\n",
    "- We take samples of size n from a population (that has a true population mean μ and standard deviation of σ) and calculate the sample mean x.\n",
    "\n",
    "- Given that n is sufficiently large (n > 30), the sampling distribution of the means will be normally distributed with:\n",
    "  - mean x approximately equal to the population mean μ\n",
    "  - standard deviation equal to the population standard deviation divided by the square root of the sample size. We can write this out as:\n",
    "  `Sampling Distribution St.Dev= σ / ∫n `\n",
    "\n",
    "\n",
    "We’ll focus on the first point in this exercise and the second point in the next exercise."
   ]
  },
  {
   "cell_type": "markdown",
   "metadata": {},
   "source": [
    "#### In the workspace, we’ve set up a simulation of a population that has a mean of 10 and a standard deviation of 10. We’ve set a sample size of 50. According to the CLT, we should have a sampling distribution of the mean that is normally distributed and has a mean that is close to the population mean.\n",
    "\n",
    "Run the code once. Does what you see align with the CLT?"
   ]
  },
  {
   "cell_type": "code",
   "execution_count": 2,
   "metadata": {},
   "outputs": [
    {
     "name": "stdout",
     "output_type": "stream",
     "text": [
      "Requirement already satisfied: seaborn in /Users/ingridarreola/opt/anaconda3/lib/python3.9/site-packages (0.11.2)\n",
      "Requirement already satisfied: numpy>=1.15 in /Users/ingridarreola/opt/anaconda3/lib/python3.9/site-packages (from seaborn) (1.20.3)\n",
      "Requirement already satisfied: matplotlib>=2.2 in /Users/ingridarreola/opt/anaconda3/lib/python3.9/site-packages (from seaborn) (3.4.3)\n",
      "Requirement already satisfied: scipy>=1.0 in /Users/ingridarreola/opt/anaconda3/lib/python3.9/site-packages (from seaborn) (1.7.1)\n",
      "Requirement already satisfied: pandas>=0.23 in /Users/ingridarreola/opt/anaconda3/lib/python3.9/site-packages (from seaborn) (1.4.0)\n",
      "Requirement already satisfied: cycler>=0.10 in /Users/ingridarreola/opt/anaconda3/lib/python3.9/site-packages (from matplotlib>=2.2->seaborn) (0.10.0)\n",
      "Requirement already satisfied: kiwisolver>=1.0.1 in /Users/ingridarreola/opt/anaconda3/lib/python3.9/site-packages (from matplotlib>=2.2->seaborn) (1.3.1)\n",
      "Requirement already satisfied: pyparsing>=2.2.1 in /Users/ingridarreola/opt/anaconda3/lib/python3.9/site-packages (from matplotlib>=2.2->seaborn) (3.0.4)\n",
      "Requirement already satisfied: pillow>=6.2.0 in /Users/ingridarreola/opt/anaconda3/lib/python3.9/site-packages (from matplotlib>=2.2->seaborn) (8.4.0)\n",
      "Requirement already satisfied: python-dateutil>=2.7 in /Users/ingridarreola/opt/anaconda3/lib/python3.9/site-packages (from matplotlib>=2.2->seaborn) (2.8.2)\n",
      "Requirement already satisfied: six in /Users/ingridarreola/opt/anaconda3/lib/python3.9/site-packages (from cycler>=0.10->matplotlib>=2.2->seaborn) (1.16.0)\n",
      "Requirement already satisfied: pytz>=2020.1 in /Users/ingridarreola/opt/anaconda3/lib/python3.9/site-packages (from pandas>=0.23->seaborn) (2021.3)\n"
     ]
    }
   ],
   "source": [
    "! pip install seaborn"
   ]
  },
  {
   "cell_type": "code",
   "execution_count": 1,
   "metadata": {},
   "outputs": [
    {
     "ename": "ModuleNotFoundError",
     "evalue": "No module named 'seaborn'",
     "output_type": "error",
     "traceback": [
      "\u001b[0;31m---------------------------------------------------------------------------\u001b[0m",
      "\u001b[0;31mModuleNotFoundError\u001b[0m                       Traceback (most recent call last)",
      "\u001b[0;32m/var/folders/6n/qvq0486x3rgffl33nn8j4mb00000gn/T/ipykernel_64516/2351219987.py\u001b[0m in \u001b[0;36m<module>\u001b[0;34m\u001b[0m\n\u001b[0;32m----> 1\u001b[0;31m \u001b[0;32mimport\u001b[0m \u001b[0mseaborn\u001b[0m \u001b[0;32mas\u001b[0m \u001b[0msns\u001b[0m\u001b[0;34m\u001b[0m\u001b[0;34m\u001b[0m\u001b[0m\n\u001b[0m",
      "\u001b[0;31mModuleNotFoundError\u001b[0m: No module named 'seaborn'"
     ]
    }
   ],
   "source": [
    "import seaborn as sns"
   ]
  },
  {
   "cell_type": "code",
   "execution_count": 5,
   "metadata": {},
   "outputs": [
    {
     "ename": "ModuleNotFoundError",
     "evalue": "No module named 'seaborn'",
     "output_type": "error",
     "traceback": [
      "\u001b[0;31m---------------------------------------------------------------------------\u001b[0m",
      "\u001b[0;31mModuleNotFoundError\u001b[0m                       Traceback (most recent call last)",
      "\u001b[0;32m/var/folders/6n/qvq0486x3rgffl33nn8j4mb00000gn/T/ipykernel_64434/2870605147.py\u001b[0m in \u001b[0;36m<module>\u001b[0;34m\u001b[0m\n\u001b[1;32m      2\u001b[0m \u001b[0;32mimport\u001b[0m \u001b[0mmatplotlib\u001b[0m\u001b[0;34m.\u001b[0m\u001b[0mpyplot\u001b[0m \u001b[0;32mas\u001b[0m \u001b[0mplt\u001b[0m\u001b[0;34m\u001b[0m\u001b[0;34m\u001b[0m\u001b[0m\n\u001b[1;32m      3\u001b[0m \u001b[0;32mimport\u001b[0m \u001b[0mscipy\u001b[0m\u001b[0;34m.\u001b[0m\u001b[0mstats\u001b[0m \u001b[0;32mas\u001b[0m \u001b[0mstats\u001b[0m\u001b[0;34m\u001b[0m\u001b[0;34m\u001b[0m\u001b[0m\n\u001b[0;32m----> 4\u001b[0;31m \u001b[0;32mimport\u001b[0m \u001b[0mseaborn\u001b[0m \u001b[0;32mas\u001b[0m \u001b[0msns\u001b[0m\u001b[0;34m\u001b[0m\u001b[0;34m\u001b[0m\u001b[0m\n\u001b[0m\u001b[1;32m      5\u001b[0m \u001b[0;34m\u001b[0m\u001b[0m\n\u001b[1;32m      6\u001b[0m \u001b[0;31m# Set the population mean & standard deviation:\u001b[0m\u001b[0;34m\u001b[0m\u001b[0;34m\u001b[0m\u001b[0m\n",
      "\u001b[0;31mModuleNotFoundError\u001b[0m: No module named 'seaborn'"
     ]
    }
   ],
   "source": [
    "import numpy as np\n",
    "import matplotlib.pyplot as plt\n",
    "import scipy.stats as stats\n",
    "import seaborn as sns\n",
    "\n",
    "# Set the population mean & standard deviation:\n",
    "population_mean = 10\n",
    "population_std_dev = 10\n",
    "# Set the sample size:\n",
    "samp_size = 50\n",
    "\n",
    "# Create the population\n",
    "population = np.random.normal(population_mean, population_std_dev, size = 100000)\n",
    "\n",
    "# Simulate the samples and calculate the sampling distribution\n",
    "sample_means = []\n",
    "for i in range(500):\n",
    "    samp = np.random.choice(population, samp_size, replace = False)\n",
    "    sample_means.append(np.mean(samp))\n",
    "\n",
    "mean_sampling_distribution = round(np.mean(sample_means),3)\n",
    "\n",
    "# Plot the original population\n",
    "sns.histplot(population, stat = 'density')\n",
    "plt.title(f\"Population Mean: {population_mean} \")\n",
    "plt.xlabel(\"\")\n",
    "plt.show()\n",
    "plt.clf()\n",
    "\n",
    "## Plot the sampling distribution\n",
    "sns.histplot(sample_means, stat='density')\n",
    "# calculate the mean and SE for the probability distribution\n",
    "mu = np.mean(population)\n",
    "sigma = np.std(population)/(samp_size**.5)\n",
    "# plot the normal distribution with mu=popmean, sd=sd(pop)/sqrt(samp_size) on top\n",
    "x = np.linspace(mu - 3*sigma, mu + 3*sigma, 100)\n",
    "\n",
    "plt.plot(x, stats.norm.pdf(x, mu, sigma), color='k', label = 'normal PDF')\n",
    "plt.title(f\"Sampling Dist Mean: {mean_sampling_distribution}\")\n",
    "plt.xlabel(\"\")\n",
    "plt.show()"
   ]
  }
 ],
 "metadata": {
  "interpreter": {
   "hash": "aee8b7b246df8f9039afb4144a1f6fd8d2ca17a180786b69acc140d282b71a49"
  },
  "kernelspec": {
   "display_name": "Python 3.10.1 64-bit",
   "language": "python",
   "name": "python3"
  },
  "language_info": {
   "codemirror_mode": {
    "name": "ipython",
    "version": 3
   },
   "file_extension": ".py",
   "mimetype": "text/x-python",
   "name": "python",
   "nbconvert_exporter": "python",
   "pygments_lexer": "ipython3",
   "version": "3.10.1"
  },
  "orig_nbformat": 4
 },
 "nbformat": 4,
 "nbformat_minor": 2
}
