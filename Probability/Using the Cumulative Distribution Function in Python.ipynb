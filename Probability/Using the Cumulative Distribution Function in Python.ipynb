{
 "cells": [
  {
   "cell_type": "markdown",
   "metadata": {},
   "source": [
    "# Using the Cumulative Distribution Function in Python\n",
    "We can use the `binom.cdf()` method from the `scipy.stats` library to calculate the cumulative distribution function. This method takes 3 values:\n",
    "\n",
    "`x`: the value of interest, looking for the probability of this value or less\n",
    "`n`: the sample size\n",
    "`p`: the probability of success\n",
    "\n",
    "Calculating the probability of observing 6 or fewer heads from 10 fair coin flips (0 to 6 heads) mathematically looks like the following: `P(6 or fewer heads) = P(0 to 6 heads)` and in Python we can use the following code:\n",
    "\n",
    "```{python}\n",
    "import scipy.stats as stats\n",
    " \n",
    "print(stats.binom.cdf(6, 10, 0.5))\n",
    "\n",
    "#output is 0.828125\n",
    "```"
   ]
  },
  {
   "cell_type": "markdown",
   "metadata": {},
   "source": [
    "####  Assign a variable prob_1 to the probability of observing 3 or fewer heads from 10 fair coin flips using the cumulative distribution function. Then print prob_1.\n",
    "\n",
    "#### Use the binom.cdf() method from the scipy.stats library."
   ]
  },
  {
   "cell_type": "code",
   "execution_count": 1,
   "metadata": {},
   "outputs": [
    {
     "name": "stdout",
     "output_type": "stream",
     "text": [
      "0.171875\n"
     ]
    }
   ],
   "source": [
    "import scipy.stats as stats\n",
    "\n",
    "## Checkpoint 1\n",
    "prob_1 = stats.binom.cdf(3, 10, 0.5)\n",
    "print(prob_1)"
   ]
  },
  {
   "cell_type": "markdown",
   "metadata": {},
   "source": [
    "#### Compare this to the following code for the probability mass function "
   ]
  },
  {
   "cell_type": "code",
   "execution_count": 2,
   "metadata": {},
   "outputs": [
    {
     "name": "stdout",
     "output_type": "stream",
     "text": [
      "0.1718750000000001\n"
     ]
    }
   ],
   "source": [
    "print(stats.binom.pmf(0, n=10, p=.5) + stats.binom.pmf(1, n=10, p=.5) + stats.binom.pmf(2, n=10, p=.5) + stats.binom.pmf(3, n=10, p=.5))"
   ]
  },
  {
   "cell_type": "markdown",
   "metadata": {},
   "source": [
    "#### Assign the variable to be the probability of observing more than 5 heads from 10 fair coin flips. Then print your variable, prob_2.\n",
    "\n",
    "#### Use the binom.cdf() method from the scipy.stats library."
   ]
  },
  {
   "cell_type": "code",
   "execution_count": 3,
   "metadata": {},
   "outputs": [
    {
     "name": "stdout",
     "output_type": "stream",
     "text": [
      "0.376953125\n"
     ]
    }
   ],
   "source": [
    "prob_2 = 1 - stats.binom.cdf(5,10,0.5)\n",
    "print(prob_2)"
   ]
  },
  {
   "cell_type": "markdown",
   "metadata": {},
   "source": [
    "#### Assign the object prob_3 the probability of observing between 2 and 5 heads from 10 fair coin flips. Then print prob_3"
   ]
  },
  {
   "cell_type": "code",
   "execution_count": 4,
   "metadata": {},
   "outputs": [
    {
     "name": "stdout",
     "output_type": "stream",
     "text": [
      "0.6123046875\n"
     ]
    }
   ],
   "source": [
    "prob_3 = stats.binom.cdf(5,10,0.5) - stats.binom.cdf(1, 10, 0.5)\n",
    "print(prob_3)"
   ]
  },
  {
   "cell_type": "code",
   "execution_count": 5,
   "metadata": {},
   "outputs": [
    {
     "name": "stdout",
     "output_type": "stream",
     "text": [
      "0.6123046875000003\n"
     ]
    }
   ],
   "source": [
    "# compare to pmf code\n",
    "print(stats.binom.pmf(2, n=10, p=.5) + stats.binom.pmf(3, n=10, p=.5) + stats.binom.pmf(4, n=10, p=.5) + stats.binom.pmf(5, n=10, p=.5))"
   ]
  }
 ],
 "metadata": {
  "interpreter": {
   "hash": "aee8b7b246df8f9039afb4144a1f6fd8d2ca17a180786b69acc140d282b71a49"
  },
  "kernelspec": {
   "display_name": "Python 3.10.1 64-bit",
   "language": "python",
   "name": "python3"
  },
  "language_info": {
   "codemirror_mode": {
    "name": "ipython",
    "version": 3
   },
   "file_extension": ".py",
   "mimetype": "text/x-python",
   "name": "python",
   "nbconvert_exporter": "python",
   "pygments_lexer": "ipython3",
   "version": "3.10.1"
  },
  "orig_nbformat": 4
 },
 "nbformat": 4,
 "nbformat_minor": 2
}
