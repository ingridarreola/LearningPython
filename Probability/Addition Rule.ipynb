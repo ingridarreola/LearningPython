{
 "cells": [
  {
   "cell_type": "markdown",
   "metadata": {},
   "source": [
    "# Rules of Probability - Addition Rule\n",
    "\n",
    "Let’s go back to one of our first examples: event A is rolling an odd number on a six-sided die and event B is rolling a number greater than two. What if we want to find the probability of one or both events occurring? This is the probability of the union of A and B:\n",
    "\n",
    "`P(A or B)`\n",
    "\n",
    "\n",
    "![SegmentLocal](https://static-assets.codecademy.com/skillpaths/master-stats-ii/intro-probability/addition-rule-independent-venndiagram.gif \"segment\")\n"
   ]
  },
  {
   "cell_type": "markdown",
   "metadata": {},
   "source": [
    "In script.py, there is some code written out for you. First, there is a function, `prob_a_or_b()` which calculates the addition rule. It takes in three arguments:\n",
    "\n",
    "- `a`: an event with possible outcomes represented as a set\n",
    "- `b`: an event with possible outcomes represented as a set\n",
    "- `all_possible_outcomes`: a set that represents all possible outcomes of a sample space\n",
    "  \n",
    "In `prob_a_or_b()`, the probability of `a` and `b` as well as the probabilty of their intersection has been calculated in the following variables:\n",
    "\n",
    "- `prob_a`\n",
    "- `prob_b`\n",
    "- `prob_inter`\n",
    "Using these variables, write a return statement that returns the probability of events `a` or `b` occurring."
   ]
  },
  {
   "cell_type": "code",
   "execution_count": null,
   "metadata": {},
   "outputs": [],
   "source": [
    "def prob_a_or_b(a, b, all_possible_outcomes):\n",
    "  # probability of event a\n",
    "  prob_a = len(a)/len(all_possible_outcomes)\n",
    "\t\n",
    "\t# probability of event b\n",
    "  prob_b = len(b)/len(all_possible_outcomes)\n",
    "\t\n",
    "\t# intersection of events a and b\n",
    "  inter = a.intersection(b)\n",
    "\t\n",
    "\t# probability of intersection of events a and b\n",
    "  prob_inter = len(inter)/len(all_possible_outcomes)\n",
    "\t\n",
    "\t# returns the probability of events a or b occuring\n",
    "  return prob_a + prob_b - prob_inter"
   ]
  },
  {
   "cell_type": "markdown",
   "metadata": {},
   "source": [
    "there are three different random events outlined through sets. The first one is below the following comment:\n",
    "```\n",
    "# rolling a die once and getting an even number or an odd number\n",
    "```\n",
    "\n",
    "Call `prob_a_or_b()` using the following variables:\n",
    "\n",
    "evens\n",
    "odds\n",
    "all_possible_rolls\n",
    "Be sure to wrap your function call in a print() statement. Add your line of code below the following comment:\n",
    "\n",
    "```\n",
    "# call function here first\n",
    "```"
   ]
  },
  {
   "cell_type": "code",
   "execution_count": null,
   "metadata": {},
   "outputs": [],
   "source": [
    "# this is using the function defined above in the first code block\n",
    "# rolling a die once and getting an even number or an odd number\n",
    "evens = {2, 4, 6}\n",
    "odds = {1, 3, 5}\n",
    "all_possible_rolls = {1, 2, 3, 4, 5, 6}\n",
    "\n",
    "# call function here first\n",
    "\n",
    "print(prob_a_or_b(evens, odds, all_possible_rolls))"
   ]
  },
  {
   "cell_type": "markdown",
   "metadata": {},
   "source": [
    "The second random scenario is the following:\n",
    "Call `prob_a_or_b()` using the following variables:\n",
    "- `odds`\n",
    "- `greater_than_two`\n",
    "- `all_possible_rolls`"
   ]
  },
  {
   "cell_type": "code",
   "execution_count": null,
   "metadata": {},
   "outputs": [],
   "source": [
    "# this is using the function defined above in the first code block\n",
    "# rolling a die once and getting an odd number or a number greater than 2\n",
    "odds = {1, 3, 5}\n",
    "greater_than_two = {3, 4, 5, 6}\n",
    "all_possible_rolls = {1, 2, 3, 4, 5, 6}\n",
    "\n",
    "# call function here second\n",
    "\n",
    "print(prob_a_or_b(odds, greater_than_two, all_possible_rolls))"
   ]
  },
  {
   "cell_type": "markdown",
   "metadata": {},
   "source": [
    "The final random scenario is below the following comment:\n",
    "\n",
    "```\n",
    "# selecting a diamond card or a face card from a standard deck of cards\n",
    "\n",
    "```\n",
    "Call `prob_a_or_b()` using the following variables:\n",
    "\n",
    "- `diamond_cards`\n",
    "- `face_cards`\n",
    "- `all_possible_cards`\n",
    "\n",
    "Be sure to wrap your function call in a `print()` statement. Add your line of code below the following comment:\n",
    "\n",
    "```\n",
    "# call function here third\n",
    "```"
   ]
  },
  {
   "cell_type": "code",
   "execution_count": null,
   "metadata": {},
   "outputs": [],
   "source": [
    "# selecting a diamond card or a face card from a standard deck of cards\n",
    "diamond_cards = {'ace_diamond', '2_diamond', '3_diamond', '4_diamond', '5_diamond', '6_diamond', '7_diamond', '8_diamond', '9_diamond', '10_diamond', 'jack_diamond', 'queen_diamond', 'king_diamond'}\n",
    "face_cards = {'jack_diamond', 'jack_spade', 'jack_heart', 'jack_club', 'queen_diamond', 'queen_spade', 'queen_heart', 'queen_club', 'king_diamond', 'king_spade', 'king_heart', 'king_club'}\n",
    "# all cards in a deck representing the entire sample space\n",
    "all_possible_cards = {'ace_diamond', '2_diamond', '3_diamond', '4_diamond', '5_diamond', '6_diamond', '7_diamond', '8_diamond', '9_diamond', '10_diamond', 'jack_diamond', 'queen_diamond', 'king_diamond', 'ace_heart', '2_heart', '3_heart', '4_heart', '5_heart', '6_heart', '7_heart', '8_heart', '9_heart', '10_heart', 'jack_heart', 'queen_heart', 'king_heart', 'ace_spade', '2_spade', '3_spade', '4_spade', '5_spade', '6_spade', '7_spade', '8_spade', '9_spade', '10_spade', 'jack_spade', 'queen_spade', 'king_spade', 'ace_club', '2_club', '3_club', '4_club', '5_club', '6_club', '7_club', '8_club', '9_club', '10_club', 'jack_club', 'queen_club', 'king_club'}\n",
    "\n",
    "# call function here third\n",
    "\n",
    "print(prob_a_or_b(diamond_cards, face_cards,all_possible_cards))"
   ]
  }
 ],
 "metadata": {
  "language_info": {
   "name": "python"
  },
  "orig_nbformat": 4
 },
 "nbformat": 4,
 "nbformat_minor": 2
}
