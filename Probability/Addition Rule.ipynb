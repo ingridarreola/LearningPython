{
 "cells": [
  {
   "cell_type": "markdown",
   "metadata": {},
   "source": [
    "# Rules of Probability - Addition Rule\n",
    "\n",
    "Let’s go back to one of our first examples: event A is rolling an odd number on a six-sided die and event B is rolling a number greater than two. What if we want to find the probability of one or both events occurring? This is the probability of the union of A and B:\n",
    "\n",
    "`P(A or B)`\n",
    "\n",
    "\n",
    "![SegmentLocal](https://static-assets.codecademy.com/skillpaths/master-stats-ii/intro-probability/addition-rule-independent-venndiagram.gif \"segment\")\n"
   ]
  },
  {
   "cell_type": "markdown",
   "metadata": {},
   "source": [
    "In script.py, there is some code written out for you. First, there is a function, `prob_a_or_b()` which calculates the addition rule. It takes in three arguments:\n",
    "\n",
    "- `a`: an event with possible outcomes represented as a set\n",
    "- `b`: an event with possible outcomes represented as a set\n",
    "- `all_possible_outcomes`: a set that represents all possible outcomes of a sample space\n",
    "  \n",
    "In `prob_a_or_b()`, the probability of `a` and `b` as well as the probabilty of their intersection has been calculated in the following variables:\n",
    "\n",
    "- `prob_a`\n",
    "- `prob_b`\n",
    "- `prob_inter`\n",
    "Using these variables, write a return statement that returns the probability of events `a` or `b` occurring."
   ]
  },
  {
   "cell_type": "code",
   "execution_count": null,
   "metadata": {},
   "outputs": [],
   "source": []
  },
  {
   "cell_type": "markdown",
   "metadata": {},
   "source": [
    "there are three different random events outlined through sets. The first one is below the following comment:\n",
    "```\n",
    "# rolling a die once and getting an even number or an odd number\n",
    "```\n",
    "\n",
    "Call `prob_a_or_b()` using the following variables:\n",
    "\n",
    "evens\n",
    "odds\n",
    "all_possible_rolls\n",
    "Be sure to wrap your function call in a print() statement. Add your line of code below the following comment:\n",
    "\n",
    "```\n",
    "# call function here first\n",
    "```"
   ]
  },
  {
   "cell_type": "markdown",
   "metadata": {},
   "source": [
    "The final random scenario is below the following comment:\n",
    "\n",
    "```\n",
    "# selecting a diamond card or a face card from a standard deck of cards\n",
    "\n",
    "```\n",
    "Call `prob_a_or_b()` using the following variables:\n",
    "\n",
    "- `diamond_cards`\n",
    "- `face_cards`\n",
    "- `all_possible_cards`\n",
    "\n",
    "Be sure to wrap your function call in a `print()` statement. Add your line of code below the following comment:\n",
    "\n",
    "```\n",
    "# call function here third\n",
    "```"
   ]
  },
  {
   "cell_type": "code",
   "execution_count": null,
   "metadata": {},
   "outputs": [],
   "source": []
  }
 ],
 "metadata": {
  "language_info": {
   "name": "python"
  },
  "orig_nbformat": 4
 },
 "nbformat": 4,
 "nbformat_minor": 2
}
