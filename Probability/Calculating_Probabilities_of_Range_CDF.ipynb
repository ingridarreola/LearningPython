{
 "cells": [
  {
   "cell_type": "markdown",
   "metadata": {},
   "source": [
    "# Calculating Probabilities of a Range using the Cumulative Density Function\n",
    "\n",
    "We can use the `poisson.cdf()` method in the scipy.stats library to evaluate the probability of observing a specific number or less given the expected value of a distribution. For example, if we wanted to calculate the probability of observing 6 or fewer rain events in the next 30 days when we expected 10, we could do the following:\n",
    "\n",
    "```\n",
    "import scipy.stats as stats\n",
    "# expected value = 10, probability of observing 6 or less\n",
    "\n",
    "stats.poisson.cdf(6, 10)\n",
    "\n",
    "# Output: 0.130141420882483\n",
    "```\n",
    "\n",
    "This means that there is roughly a 13% chance that there will be 6 or fewer rainfalls in the month in question.\n",
    "\n",
    "We can also use this method to evaluate the probability of observing a specific number or more given the expected value of the distribution. For example, if we wanted to calculate the probability of observing 12 or more rain events in the next 30 days when we expected 10, we could do the following:\n",
    "\n",
    "```\n",
    "import scipy.stats as stats\n",
    "# expected value = 10, probability of observing 12 or more\n",
    "\n",
    "1 - stats.poisson.cdf(11, 10)\n",
    "\n",
    "#Output: 0.30322385369689386\n",
    "```\n",
    "\n",
    "This means that there is roughly a 30% chance that there will be 12 or more rain events in the month in question.\n",
    "\n",
    "Note that we used 11 in the statement above even though 12 was the value given in the prompt. We wanted to calculate the probability of observing 12 or more rains, which includes 12. stats.poisson.cdf(11, 10) evaluates the probability of observing 11 or fewer rains, so 1 - stats.poisson.cdf(11, 10) would equal the probability of observing 12 or more rains.\n",
    "\n",
    "Summing individual probabilities over a wide range can be cumbersome. It is often easier to calculate the probability of a range using the cumulative density function instead of the probability mass function. We can do this by taking the difference between the CDF of the larger endpoint and the CDF of one less than the smaller endpoint of the range.\n",
    "\n",
    "For example, while still expecting 10 rainfalls in the next 30 days, we could use the following code to calculate the probability of observing between 12 and 18 rainfall events:\n",
    "\n",
    "\n",
    "```\n",
    "import scipy.stats as stats\n",
    "# expected value = 10, probability of observing between 12 and 18\n",
    "stats.poisson.cdf(18, 10) - stats.poisson.cdf(11, 10)\n",
    "\n",
    "# Output: 0.29603734909303947\n",
    "```"
   ]
  },
  {
   "cell_type": "markdown",
   "metadata": {},
   "source": [
    "#### Working at a call center where the average number of calls between 9am and 10am is 15 calls, what is the probability of observing more than 20 calls? Assign this probability to a variable. "
   ]
  },
  {
   "cell_type": "code",
   "execution_count": 3,
   "metadata": {},
   "outputs": [
    {
     "name": "stdout",
     "output_type": "stream",
     "text": [
      "0.08297091003146029\n"
     ]
    }
   ],
   "source": [
    "import scipy.stats as stats\n",
    "\n",
    "## Checkpoint 1\n",
    "# calculate prob_more_than_20 ||| expected value = 15\n",
    "prob_more_than_20 = 1 - stats.poisson.cdf(20,15)\n",
    "\n",
    "print(prob_more_than_20)"
   ]
  },
  {
   "cell_type": "markdown",
   "metadata": {},
   "source": [
    "#### What is the probability of observing between 17 to 21 calls when the expected number of calls is 15?"
   ]
  },
  {
   "cell_type": "code",
   "execution_count": 4,
   "metadata": {},
   "outputs": [
    {
     "name": "stdout",
     "output_type": "stream",
     "text": [
      "0.2827703929341844\n"
     ]
    }
   ],
   "source": [
    "# calculate prob_17_to_21 ||| expected value = 15 || observe between 17 to 21\n",
    "prob_17_to_21 = stats.poisson.cdf(21, 15) - stats.poisson.cdf(16, 15)\n",
    "\n",
    "print(prob_17_to_21)"
   ]
  }
 ],
 "metadata": {
  "interpreter": {
   "hash": "aee8b7b246df8f9039afb4144a1f6fd8d2ca17a180786b69acc140d282b71a49"
  },
  "kernelspec": {
   "display_name": "Python 3.10.1 64-bit",
   "language": "python",
   "name": "python3"
  },
  "language_info": {
   "codemirror_mode": {
    "name": "ipython",
    "version": 3
   },
   "file_extension": ".py",
   "mimetype": "text/x-python",
   "name": "python",
   "nbconvert_exporter": "python",
   "pygments_lexer": "ipython3",
   "version": "3.10.1"
  },
  "orig_nbformat": 4
 },
 "nbformat": 4,
 "nbformat_minor": 2
}
