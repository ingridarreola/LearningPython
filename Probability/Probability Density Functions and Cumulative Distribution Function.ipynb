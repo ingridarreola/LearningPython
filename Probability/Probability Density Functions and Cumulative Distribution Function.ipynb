{
 "cells": [
  {
   "cell_type": "markdown",
   "metadata": {},
   "source": [
    "# Probability Density Functions and Cumulative Distribution Function\n",
    "\n",
    "We can take the difference between two overlapping ranges to calculate the probability that a random selection will be within a range of values for continuous distributions. This is essentially the same process as calculating the probability of a range of values for discrete distributions.\n",
    "\n",
    "![PDF](https://raw.githubusercontent.com/ingridarreola/LearningPython/64027687c5b52f1c2d215f1ccdd395261c4bd449/Probability/Normal-PDF-Range.gif)\n",
    "\n",
    "If we wanted to calculate the probability of randomly observing a woman between 165 cm to 175 cm, assuming heights still follow the Normal(167.74, 8) distribution. We can calculate the probability of observing these values or less. The difference between these two probabilities will be the probability of randomly observing a woman in this given range. This can be done in python using the `norm.cdf()` method from the `scipy.stats` library. As mentioned before, this method takes on 3 values:\n",
    "\n",
    "- `x`: the value of interest\n",
    "- `loc`: the mean of the probability distribution\n",
    "- `scale`: the standard deviation of the probability distribution\n",
    "\n",
    "#### P(165 < X < 175) = P(X < 175) - P(X < 165)\n",
    "\n",
    "```\n",
    "import scipy.stats as stats\n",
    "print(stats.norm.cdf(175, 167.74, 8) - stats.norm.cdf(165, 167.74, 8))\n",
    "```\n",
    "\n",
    "`Output = 0.45194`\n",
    "\n",
    "We can also calculate the probability of randomly observing a value or greater by subtracting the probability of observing less than than the given value from 1. This is possible because we know that the total area under the curve is 1, so the probability of observing something greater than a value is 1 minus the probability of observing something less than the given value.\n",
    "\n",
    "Let’s say we wanted to calculate the probability of observing a woman taller than 172 centimeters, assuming heights still follow the Normal(167.74, 8) distribution. We can think of this as the opposite of observing a woman shorter than 172 centimeters. We can visualize it this way:\n",
    "\n",
    "![Example2](https://raw.githubusercontent.com/ingridarreola/LearningPython/d7ed060047f8566688480d91b925817f006a501e/Probability/Norm_PDF_Example_2.svg)\n",
    "\n",
    "We can use the following code to calculate the blue area by taking 1 minus the red area:\n",
    "\n",
    "```\n",
    "import scipy.stats as stats\n",
    " \n",
    "# P(X > 172) = 1 - P(X < 172)\n",
    "# 1 - stats.norm.cdf(x, loc, scale)\n",
    "print(1 - stats.norm.cdf(172, 167.74, 8))\n",
    "\n",
    "# Output --->  0.29718\n",
    "```"
   ]
  },
  {
   "cell_type": "markdown",
   "metadata": {},
   "source": [
    "#### The weather in the Galapagos islands follows a Normal distribution with a mean of 20 degrees Celcius and a standard deviation of 3 degrees. Uncomment temp_prob_1 and set the variable to equal the probability that the weather on a randomly selected day will be between 18 to 25 degrees Celcius using the norm.cdf() method. Be sure to print temp_prob_1."
   ]
  },
  {
   "cell_type": "code",
   "execution_count": 1,
   "metadata": {},
   "outputs": [
    {
     "name": "stdout",
     "output_type": "stream",
     "text": [
      "0.6997171101802624\n"
     ]
    }
   ],
   "source": [
    "import scipy.stats as stats\n",
    "\n",
    "## P(18 < x < 25) ---> P(x < 25) - P(X < 18)\n",
    "\n",
    "# stats.norm.cdf(x ,mean, standard_deviation)\n",
    "temp_prob_1 = stats.norm.cdf(25, 20, 3) - stats.norm.cdf(18, 20, 3)\n",
    "print(temp_prob_1)"
   ]
  },
  {
   "cell_type": "markdown",
   "metadata": {},
   "source": [
    "#### Using the same info about the Galapagos Islands, assign the variable to equal the probability that the weather on a randomly selected day will be greater than 24 degrees Celsius."
   ]
  },
  {
   "cell_type": "code",
   "execution_count": 2,
   "metadata": {},
   "outputs": [
    {
     "name": "stdout",
     "output_type": "stream",
     "text": [
      "0.09121121972586788\n"
     ]
    }
   ],
   "source": [
    "##  P(x > 24) ----> 1 - P(x < 24)\n",
    "temp_prob_2 = 1 - stats.norm.cdf(24, 20,3)\n",
    "print(temp_prob_2)"
   ]
  }
 ],
 "metadata": {
  "interpreter": {
   "hash": "aee8b7b246df8f9039afb4144a1f6fd8d2ca17a180786b69acc140d282b71a49"
  },
  "kernelspec": {
   "display_name": "Python 3.10.1 64-bit",
   "language": "python",
   "name": "python3"
  },
  "language_info": {
   "codemirror_mode": {
    "name": "ipython",
    "version": 3
   },
   "file_extension": ".py",
   "mimetype": "text/x-python",
   "name": "python",
   "nbconvert_exporter": "python",
   "pygments_lexer": "ipython3",
   "version": "3.10.1"
  },
  "orig_nbformat": 4
 },
 "nbformat": 4,
 "nbformat_minor": 2
}
