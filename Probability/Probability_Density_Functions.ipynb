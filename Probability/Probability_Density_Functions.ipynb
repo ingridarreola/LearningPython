{
 "cells": [
  {
   "cell_type": "markdown",
   "metadata": {},
   "source": [
    "# Probability Density Functions\n",
    "\n",
    "Similar to how discrete random variables relate to probability mass functions, continuous random variables relate to probability density functions. They define the probability distributions of continuous random variables and span across all possible values that the given random variable can take on.\n",
    "\n",
    "When graphed, a probability density function is a curve across all possible values the random variable can take on, and the total area under this curve adds up to 1.\n",
    "\n",
    "The following image shows a probability density function. The highlighted area represents the probability of observing a value within the highlighted range.\n",
    "\n",
    "![ProbabilityDensityFunction](https://github.com/ingridarreola/LearningPython/blob/main/Probability/Adding-Area-PDF.gif?raw=true \"pdf\")\n",
    "\n",
    "In a probability density function, we cannot calculate the probability at a single point. This is because the area of the curve underneath a single point is always zero. The gif below showcases this. The interval becomes smaller, the width of the area under the curve becomes smaller as well. When trying to evaluate the area under the curve at a specific point, the width of that area becomes 0, and therefore the probability equals 0.\n",
    "\n",
    "\n",
    "![AreaToZero](https://github.com/ingridarreola/LearningPython/blob/main/Probability/Normal-Distribution-Area-to-Zero-PDF.gif?raw=true)\n",
    "\n",
    "The example below shows how heights fall under a type of probability distribution called a normal distribution. The parameters for the normal distribution are the mean and the standard deviation, and we use the form Normal(mean, standard deviation) as shorthand. If we want to know the probability that a randomly chosen woman is less than 158 cm tall. We can use the cumulative distribution function to calculate the area under the probability density function curve from 0 to 158 to find that probability.\n",
    "\n",
    "![Example](https://raw.githubusercontent.com/ingridarreola/LearningPython/be0763e55e7b9b4d0f1fd5da095507f28e8cf225/Probability/norm_pdf_example.svg)\n",
    "\n",
    "We can calculate the area of the blue region in Python using the `norm.cdf()` method from the `scipy.stats` library. This method takes on 3 values:\n",
    "\n",
    "- `x`: the value of interest\n",
    "- `loc`: the mean of the probability distribution\n",
    "- `scale`: the standard deviation of the probability distribution\n",
    "\n",
    "```\n",
    "import scipy.stats as stats\n",
    " \n",
    "# stats.norm.cdf(x, loc, scale)\n",
    "print(stats.norm.cdf(158, 167.64, 8))\n",
    "```\n",
    "\n",
    "```\n",
    "Output:\n",
    "# 0.1141\n",
    "```"
   ]
  },
  {
   "cell_type": "markdown",
   "metadata": {},
   "source": [
    "#### Following the same Normal(167.64, 8) distribution, assign the variable prob the probability that a randomly chosen woman is less than 175 cm tall. You should use the `stats.norm.cdf()` method. Be sure to print `prob`."
   ]
  },
  {
   "cell_type": "code",
   "execution_count": 1,
   "metadata": {},
   "outputs": [
    {
     "name": "stdout",
     "output_type": "stream",
     "text": [
      "0.8212136203856288\n"
     ]
    }
   ],
   "source": [
    "import scipy.stats as stats\n",
    "\n",
    "prob = stats.norm.cdf(175, 167.64, 8)\n",
    "print(prob)"
   ]
  }
 ],
 "metadata": {
  "interpreter": {
   "hash": "aee8b7b246df8f9039afb4144a1f6fd8d2ca17a180786b69acc140d282b71a49"
  },
  "kernelspec": {
   "display_name": "Python 3.10.1 64-bit",
   "language": "python",
   "name": "python3"
  },
  "language_info": {
   "codemirror_mode": {
    "name": "ipython",
    "version": 3
   },
   "file_extension": ".py",
   "mimetype": "text/x-python",
   "name": "python",
   "nbconvert_exporter": "python",
   "pygments_lexer": "ipython3",
   "version": "3.10.1"
  },
  "orig_nbformat": 4
 },
 "nbformat": 4,
 "nbformat_minor": 2
}
