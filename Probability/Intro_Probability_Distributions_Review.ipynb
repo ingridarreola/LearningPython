{
 "cells": [
  {
   "cell_type": "markdown",
   "metadata": {},
   "source": [
    "# INTRODUCTION TO PROBABILITY DISTRIBUTIONS REVIEW\n",
    "To review, we have:\n",
    "\n",
    "- Learned about different types of random variables\n",
    "- Calculated the probability of specific events using probability mass functions (discrete random variable)\n",
    "- Calculated the probability of ranges using probability mass functions and cumulative distribution functions (discrete random variable)\n",
    "- Calculated the probability of ranges using probability density functions and cumulative distribution functions (continuous random variable)"
   ]
  },
  {
   "cell_type": "code",
   "execution_count": 1,
   "metadata": {},
   "outputs": [],
   "source": [
    "import scipy.stats as stats\n",
    "import numpy as np"
   ]
  },
  {
   "cell_type": "code",
   "execution_count": null,
   "metadata": {},
   "outputs": [],
   "source": [
    "## Exercise 1\n",
    "# sampling from a 6-sided die\n",
    "die_6 = range(1, 6)\n",
    "print(np.random.choice(die_6, size = 5, replace = True))\n",
    "\n",
    "\n",
    "## Exercise 4 - binomial probability mass function\n",
    "# 6 heads from 10 fair coin flips\n",
    "print(stats.binom.pmf(6, 10, 0.5))\n",
    "\n",
    "\n",
    "## Exercise 6 - binomial probability mass function\n",
    "# 2 to 4 heads from 10 coin flips\n",
    "# P(X = 2) + P(X = 3) + P(X = 4)\n",
    "print(stats.binom.pmf(2, n=10, p=.5) + stats.binom.pmf(3, n=10, p=.5) + stats.binom.pmf(4, n=10, p=.5))\n",
    "\n",
    "# 0 to 8 heads from 10 coin flips\n",
    "# 1 - (P(X = 9) + P(X = 10))\n",
    "print(1 - (stats.binom.pmf(9, n=10, p=.5) + stats.binom.pmf(10, n=10, p=.5)))\n",
    "\n",
    "\n",
    "## Exercise 9 - binomial cumulative distribution function\n",
    "# 6 or fewer heads from 10 coin flips\n",
    "print(stats.binom.cdf(6, 10, 0.5))\n",
    "\n",
    "# more than 6 heads from 10 coin flips\n",
    "print(1 - stats.binom.cdf(6, 10, 0.5))\n",
    "\n",
    "# between 4 and 8 heads from 10 coin flips\n",
    "print(stats.binom.cdf(8, 10, 0.5) - stats.binom.cdf(3, 10, 0.5))\n",
    "\n",
    "\n",
    "## Exercise 10 - normal distribution cumulative distribution function\n",
    "# stats.norm.cdf(x, loc, scale)\n",
    "# temperature being less than 14*C\n",
    "  # x = 14, loc = 20, scale = 3\n",
    "print(stats.norm.cdf(14, 20, 3))\n",
    "\n",
    "\n",
    "# Exercise 11\n",
    "# temperature being greater than 24*C\n",
    "  # x = 24, loc = 20, scale = 3\n",
    "print(1 - stats.norm.cdf(24, 20, 3))\n",
    "\n",
    "# temperature being between 21*C and 25*C\n",
    "  # x = 24, loc = 20, scale = 3\n",
    "print(stats.norm.cdf(25, 20, 3) - stats.norm.cdf(21, 20, 3))"
   ]
  }
 ],
 "metadata": {
  "interpreter": {
   "hash": "aee8b7b246df8f9039afb4144a1f6fd8d2ca17a180786b69acc140d282b71a49"
  },
  "kernelspec": {
   "display_name": "Python 3.10.1 64-bit",
   "language": "python",
   "name": "python3"
  },
  "language_info": {
   "codemirror_mode": {
    "name": "ipython",
    "version": 3
   },
   "file_extension": ".py",
   "mimetype": "text/x-python",
   "name": "python",
   "nbconvert_exporter": "python",
   "pygments_lexer": "ipython3",
   "version": "3.10.1"
  },
  "orig_nbformat": 4
 },
 "nbformat": 4,
 "nbformat_minor": 2
}
