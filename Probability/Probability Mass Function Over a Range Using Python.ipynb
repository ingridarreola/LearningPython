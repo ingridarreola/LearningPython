{
 "cells": [
  {
   "cell_type": "markdown",
   "metadata": {},
   "source": [
    "# **Probability Mass Function Over a Range Using Python**\n",
    "\n",
    "We can use the same `binom.pmf()` method from the `scipy.stats`library to calculate the probability of observing a range of values. As mentioned in a previous exercise, the `binom.pmf` method takes 3 values:\n",
    "\n",
    "- `x`: the value of interest\n",
    "- `n`: the sample size\n",
    "- `p`: the probability of success\n",
    "\n",
    "For example, we can calculate the probability of observing between 2 and 4 heads from 10 coin flips as follows:\n",
    "\n",
    "```{python}\n",
    "\n",
    "import scipy.stats as stats\n",
    " \n",
    "# calculating P(2-4 heads) = P(2 heads) + P(3 heads) + P(4 heads) for flipping a coin 10 times\n",
    "print(stats.binom.pmf(2, n=10, p=.5) + stats.binom.pmf(3, n=10, p=.5) + stats.binom.pmf(4, n=10, p=.5))\n",
    "\n",
    "```\n",
    "\n",
    "This is repetitive -- instead of summing up 9 values for the probabilities between 0 and 8 heads, we can do 1 minus the sum of two values and get the same result:\n",
    "\n",
    "```{python}\n",
    "\n",
    "import scipy.stats as stats\n",
    "# less than or equal to 8\n",
    "1 - (stats.binom.pmf(9, n=10, p=.5) + stats.binom.pmf(10, n=10, p=.5))\n",
    "\n",
    "```"
   ]
  },
  {
   "cell_type": "markdown",
   "metadata": {},
   "source": [
    "#### Uncomment prob_1 and set it equal to the probability of observing between 4 to 6 heads from 10 coin flips. Be sure to use stats.binom.pmf()."
   ]
  },
  {
   "cell_type": "code",
   "execution_count": 1,
   "metadata": {},
   "outputs": [
    {
     "name": "stdout",
     "output_type": "stream",
     "text": [
      "0.6562500000000002\n"
     ]
    }
   ],
   "source": [
    "import scipy.stats as stats\n",
    "\n",
    "## Checkpoint 1\n",
    "prob_1 = stats.binom.pmf(4, n=10, p=.5) + stats.binom.pmf(5, n=10, p=.5) + stats.binom.pmf(6, n=10, p=.5)\n",
    "print(prob_1)\n"
   ]
  },
  {
   "cell_type": "markdown",
   "metadata": {},
   "source": [
    "#### Use the *1 minus the sum of some values of `stats.binom.pmf()`* method to set `prob_2` to the probability of observing more than 2 heads from 10 coin flips."
   ]
  },
  {
   "cell_type": "code",
   "execution_count": 2,
   "metadata": {},
   "outputs": [
    {
     "name": "stdout",
     "output_type": "stream",
     "text": [
      "0.9453124999999999\n"
     ]
    }
   ],
   "source": [
    "prob_2 = 1 - (stats.binom.pmf(0, n=10, p=.5) + stats.binom.pmf(1, n=10, p=.5) + stats.binom.pmf(2, n=10, p=.5))\n",
    "print(prob_2)"
   ]
  }
 ],
 "metadata": {
  "interpreter": {
   "hash": "aee8b7b246df8f9039afb4144a1f6fd8d2ca17a180786b69acc140d282b71a49"
  },
  "kernelspec": {
   "display_name": "Python 3.10.1 64-bit",
   "language": "python",
   "name": "python3"
  },
  "language_info": {
   "codemirror_mode": {
    "name": "ipython",
    "version": 3
   },
   "file_extension": ".py",
   "mimetype": "text/x-python",
   "name": "python",
   "nbconvert_exporter": "python",
   "pygments_lexer": "ipython3",
   "version": "3.10.1"
  },
  "orig_nbformat": 4
 },
 "nbformat": 4,
 "nbformat_minor": 2
}
