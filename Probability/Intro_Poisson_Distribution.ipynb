{
 "cells": [
  {
   "cell_type": "markdown",
   "metadata": {},
   "source": [
    "# Calculating Probabilities of Exact Values Using the Probability Mass Function\n",
    "The Poisson distribution is a discrete probability distribution, so it can be described by a probability mass function and cumulative distribution function. The Poisson distribution is another common distribution, and it is used to describe the number of times a certain event occurs within a fixed time or space interval. For example, the Poisson distribution can be used to describe the number of cars that pass through a specific intersection between 4pm and 5pm on a given day. It can also be used to describe the number of calls received in an office between 1pm to 3pm on a certain day.\n",
    "\n",
    "The Poisson distribution is defined by the rate parameter, symbolized by the Greek letter lambda, λ.\n",
    "\n",
    "Lambda represents the expected value — or the average value — of the distribution. For example, if our expected number of customers between 1pm and 2pm is 7, then we would set the parameter for the Poisson distribution to be 7. The PMF for the Poisson(7) distribution is as follows: \n",
    "\n",
    "![PMF_7](https://raw.githubusercontent.com/ingridarreola/LearningPython/3344f717b8a73c5dbf72a5baa8d976712d84b368/Probability/Poisson_7_pmf.svg)\n",
    "\n",
    "The PMF of the Poisson distribution look trends towards a central distribution with different values in the lambda parameter, as it increases, as shown below:\n",
    "\n",
    "![GIF](https://github.com/ingridarreola/LearningPython/blob/main/Probability/Poisson_Distribution_Occurrences.gif?raw=true)\n",
    "\n",
    "We can use the poisson.pmf() method in the scipy.stats library to evaluate the probability of observing a specific number given the parameter (expected value) of a distribution. For example, suppose that we expect it to rain 10 times in the next 30 days. The number of times it rains in the next 30 days is “Poisson distributed” with lambda = 10. We can calculate the probability of exactly 6 times of rain as follows:\n",
    "\n",
    "```\n",
    "import scipy.stats as stats\n",
    "# expected value = 10, probability of observing 6\n",
    "stats.poisson.pmf(6, 10)\n",
    "\n",
    "# output ---> 0.06305545800345125\n",
    "```\n",
    "\n",
    "Like previous probability mass functions of discrete random variables, individual probabilities can be summed together to find the probability of observing a value in a range.\n",
    "\n",
    "For example, if we expect it to rain 10 times in the next 30 days, the number of times it rains in the next 30 days is “Poisson distributed” with lambda = 10. We can calculate the probability of 12-14 times of rain as follows:\n",
    "\n",
    "```\n",
    "import scipy.stats as stats\n",
    "# expected value = 10, probability of observing 12-14\n",
    "stats.poisson.pmf(12, 10) + stats.poisson.pmf(13, 10) + stats.poisson.pmf(14, 10)\n",
    "# output ---> 0.21976538076223123\n",
    "```"
   ]
  },
  {
   "cell_type": "markdown",
   "metadata": {},
   "source": [
    "#### We are working in a call center, and we expect the average number of calls in our call center between 9am and 10am to be 15 calls. What is the probability that we would see exactly 15 calls in that time frame?"
   ]
  },
  {
   "cell_type": "code",
   "execution_count": 1,
   "metadata": {},
   "outputs": [
    {
     "name": "stdout",
     "output_type": "stream",
     "text": [
      "0.1024358666645339\n"
     ]
    }
   ],
   "source": [
    "import scipy.stats as stats\n",
    "\n",
    "## Checkpoint 1\n",
    "# calculate prob_15\n",
    "prob_15 = stats.poisson.pmf(15, 15)\n",
    "\n",
    "print(prob_15)"
   ]
  },
  {
   "cell_type": "markdown",
   "metadata": {},
   "source": [
    "#### What is the probability we would get between 7 and 9 calls?"
   ]
  },
  {
   "cell_type": "code",
   "execution_count": 2,
   "metadata": {},
   "outputs": [
    {
     "name": "stdout",
     "output_type": "stream",
     "text": [
      "0.062221761061894816\n"
     ]
    }
   ],
   "source": [
    "prob_7_to_9 = stats.poisson.pmf(7, 15) + stats.poisson.pmf(8, 15) + stats.poisson.pmf(9, 15)\n",
    "\n",
    "print(prob_7_to_9)"
   ]
  }
 ],
 "metadata": {
  "interpreter": {
   "hash": "aee8b7b246df8f9039afb4144a1f6fd8d2ca17a180786b69acc140d282b71a49"
  },
  "kernelspec": {
   "display_name": "Python 3.10.1 64-bit",
   "language": "python",
   "name": "python3"
  },
  "language_info": {
   "codemirror_mode": {
    "name": "ipython",
    "version": 3
   },
   "file_extension": ".py",
   "mimetype": "text/x-python",
   "name": "python",
   "nbconvert_exporter": "python",
   "pygments_lexer": "ipython3",
   "version": "3.10.1"
  },
  "orig_nbformat": 4
 },
 "nbformat": 4,
 "nbformat_minor": 2
}
