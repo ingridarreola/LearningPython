{
 "cells": [
  {
   "cell_type": "markdown",
   "metadata": {},
   "source": [
    "# INTRODUCTION TO PROBABILITY DISTRIBUTIONS\n",
    "\n",
    "A random variable is, in its simplest form, a function. In probability, we often use random variables to represent random events. For example, we could use a random variable to represent the outcome of a die roll: any number between one and six.\n",
    "\n",
    "In this lesson, we will use `random.choice(a, size = size, replace = True/False)` from the `numpy` library to simulate random variables in python. In this method:\n",
    "- `a` is a list or other object that has values we are sampling from\n",
    "- `size` is a number that represents how many values to choose\n",
    "- `replace` can be equal to `True` or `False`, and determines whether we keep a value in `a` after drawing it (`replace = True`) or remove it from the pool (`replace = False`).\n",
    "\n",
    "The following code simulates the outcome of rolling a fair die twice using `np.random.choice()`:\n",
    "\n",
    "```\n",
    "import numpy as np\n",
    " \n",
    "# 7 is not included in the range function\n",
    "die_6 = range(1, 7)\n",
    " \n",
    "rolls = np.random.choice(die_6, size = 2, replace = True)\n",
    " \n",
    "print(rolls)\n",
    "\n",
    "# [2, 5]\n",
    "```\n"
   ]
  },
  {
   "cell_type": "code",
   "execution_count": 1,
   "metadata": {},
   "outputs": [
    {
     "name": "stdout",
     "output_type": "stream",
     "text": [
      "[3 5 1 2 2]\n"
     ]
    }
   ],
   "source": [
    "import numpy as np\n",
    "\n",
    "# create 6 sided \"die\"\n",
    "die_6 = range(1, 7)\n",
    "\n",
    "# set number of rolls\n",
    "num_rolls = 5\n",
    "\n",
    "# roll the \"die\" the set amount of times\n",
    "results_1 = np.random.choice(die_6, size = num_rolls, replace = True)\n",
    "print(results_1)"
   ]
  },
  {
   "cell_type": "code",
   "execution_count": 2,
   "metadata": {},
   "outputs": [],
   "source": [
    "# Using the range() function, create a 12-sided die called die_12. Use similar logic as die_6.\n",
    "\n",
    "# create 12-sided \"die\"\n",
    "die_12 = range(1,13)"
   ]
  },
  {
   "cell_type": "code",
   "execution_count": 4,
   "metadata": {},
   "outputs": [
    {
     "name": "stdout",
     "output_type": "stream",
     "text": [
      "[ 6  2 10  4  9  7  1  8  2 10]\n"
     ]
    }
   ],
   "source": [
    "# Simulate rolling die_12 ten times, and save the rolls as results_2. Use the np.random.choice() function to simulate the rolls, and be sure to print out your results!\n",
    "\n",
    "#set rolling to 10 times\n",
    "num_rolls = 10\n",
    "\n",
    "#saving the rolls to this variable\n",
    "results_2 = np.random.choice(die_12, size=num_rolls, replace=True)\n",
    "print(results_2)"
   ]
  }
 ],
 "metadata": {
  "interpreter": {
   "hash": "aee8b7b246df8f9039afb4144a1f6fd8d2ca17a180786b69acc140d282b71a49"
  },
  "kernelspec": {
   "display_name": "Python 3.10.1 64-bit",
   "language": "python",
   "name": "python3"
  },
  "language_info": {
   "codemirror_mode": {
    "name": "ipython",
    "version": 3
   },
   "file_extension": ".py",
   "mimetype": "text/x-python",
   "name": "python",
   "nbconvert_exporter": "python",
   "pygments_lexer": "ipython3",
   "version": "3.10.1"
  },
  "orig_nbformat": 4
 },
 "nbformat": 4,
 "nbformat_minor": 2
}
