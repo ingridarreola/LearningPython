{
 "cells": [
  {
   "cell_type": "markdown",
   "metadata": {},
   "source": [
    "# Spread of the Poisson Distribution\n",
    "\n",
    "Probability distributions also have calculable variances. Variances are a way of measuring the spread or dispersion of values and probabilities in the distribution. For the Poisson distribution, the variance is simply the value of lambda (λ), meaning that the expected value and variance are equivalent in Poisson distributions.\n",
    "\n",
    "We know that the Poisson distribution has a discrete random variable and must be greater than 0 (think, a salesperson cannot have less than 0 sales, a shop cannot have fewer than 0 customers), so as the expected value increases, the number of possible values the distribution can take on would also increase.\n",
    "\n",
    "The first plot below shows a Poisson distribution with lambda equal to three, and the second plot shows a Poisson distribution with lambda equal to fifteen. Notice that in the second plot, the spread of the distribution increases. Also, take note that the height of the bars in the second bar decrease since there are more possible values in the distribution.\n",
    "\n",
    "![distribution_3](https://raw.githubusercontent.com/ingridarreola/LearningPython/6382796bdf8b86556c3a8fae1b6734576102c23d/Probability/poisson_lambda_3.svg)\n",
    "\n",
    "![distribution_15](https://raw.githubusercontent.com/ingridarreola/LearningPython/6382796bdf8b86556c3a8fae1b6734576102c23d/Probability/poisson_lambda_15.svg)\n",
    "\n",
    "As we can see, as the parameter lambda increases, the variance — or spread — of possible values increases as well.\n",
    "\n",
    "We can calculate the variance of a sample using the numpy.var() method:\n",
    "\n",
    "```\n",
    "import scipy.stats as stats\n",
    "import numpy as np\n",
    " \n",
    "rand_vars = stats.poisson.rvs(4, size = 1000)\n",
    "print(np.var(rand_vars))\n",
    "\n",
    "Output ---> 3.864559\n",
    "```\n",
    "\n",
    "Because this is calculated from a sample, it is possible that the variance might not equal EXACTLY lambda. However, we do expect it to be relatively close when the sample size is large, like in this example.\n",
    "\n",
    "Another way to view the increase in possible values is to take the range of a sample (the minimum and maximum values in a set). The following code will take draw 1000 random variables from the Poisson distribution with lambda = 4 and then print the minimum and maximum values observed using the .min() and .max() Python functions:\n",
    "\n",
    "```\n",
    "import scipy.stats as stats\n",
    " \n",
    "rand_vars = stats.poisson.rvs(4, size = 1000)\n",
    " \n",
    "print(min(rand_vars), max(rand_vars))\n",
    "\n",
    "Output --> 0 12\n",
    "```\n",
    "\n",
    "If we increase the value of lambda to 10, let’s see how the minimum and maximum values change:\n",
    "\n",
    "```\n",
    "import scipy.stats as stats\n",
    " \n",
    "rand_vars = stats.poisson.rvs(10, size = 1000)\n",
    " \n",
    "print(min(rand_vars), max(rand_vars))\n",
    "\n",
    "Output --> 1 22\n",
    "```\n",
    "\n",
    "These values are spread wider, indicating a larger variance."
   ]
  },
  {
   "cell_type": "markdown",
   "metadata": {},
   "source": [
    "#### In script.py, a variable called rand_vars_7 contains 5000 random draws from the Poisson distribution with lambda = 7. Calculate and print the variance of `rand_vars_7`."
   ]
  },
  {
   "cell_type": "code",
   "execution_count": 1,
   "metadata": {},
   "outputs": [
    {
     "name": "stdout",
     "output_type": "stream",
     "text": [
      "6.90318064\n"
     ]
    }
   ],
   "source": [
    "import scipy.stats as stats\n",
    "import numpy as np\n",
    "\n",
    "# 5000 draws, lambda = 7\n",
    "rand_vars_7 = stats.poisson.rvs(7, size = 5000)\n",
    "\n",
    "## Checkpoint 1\n",
    "# print variance of rand_vars_7\n",
    "print(np.var(rand_vars_7))\n",
    "\n",
    "# output --> 6.90318064"
   ]
  },
  {
   "cell_type": "markdown",
   "metadata": {},
   "source": [
    "#### Calculate and print the minimum value and maximum value of `rand_vars_7`."
   ]
  },
  {
   "cell_type": "code",
   "execution_count": 2,
   "metadata": {},
   "outputs": [
    {
     "name": "stdout",
     "output_type": "stream",
     "text": [
      "0 19\n"
     ]
    }
   ],
   "source": [
    "# print minimum and maximum of rand_vars_7\n",
    "print(min(rand_vars_7), max(rand_vars_7) )"
   ]
  },
  {
   "cell_type": "markdown",
   "metadata": {},
   "source": [
    "#### In script.py, a variable called rand_vars_17 contains 5000 random draws from the Poisson distribution with lambda = 17. Calculate and print the variance of `rand_vars_17`."
   ]
  },
  {
   "cell_type": "code",
   "execution_count": 4,
   "metadata": {},
   "outputs": [
    {
     "name": "stdout",
     "output_type": "stream",
     "text": [
      "16.42132796\n"
     ]
    }
   ],
   "source": [
    "# 5000 draws, lambda = 17\n",
    "rand_vars_17 = stats.poisson.rvs(17, size = 5000)\n",
    "\n",
    "# print variance of rand_vars_17\n",
    "print(np.var(rand_vars_17))"
   ]
  },
  {
   "cell_type": "markdown",
   "metadata": {},
   "source": [
    "#### Calculate and print the minimum and maximum values of `rand_vars_17`. Note that the range of values of `rand_vars_17` is wider than `rand_vars_7`."
   ]
  },
  {
   "cell_type": "code",
   "execution_count": 5,
   "metadata": {},
   "outputs": [
    {
     "name": "stdout",
     "output_type": "stream",
     "text": [
      "4 33\n"
     ]
    }
   ],
   "source": [
    "# print minimum and maximum of rand_vars_17\n",
    "print(min(rand_vars_17), max(rand_vars_17))"
   ]
  }
 ],
 "metadata": {
  "interpreter": {
   "hash": "aee8b7b246df8f9039afb4144a1f6fd8d2ca17a180786b69acc140d282b71a49"
  },
  "kernelspec": {
   "display_name": "Python 3.10.1 64-bit",
   "language": "python",
   "name": "python3"
  },
  "language_info": {
   "codemirror_mode": {
    "name": "ipython",
    "version": 3
   },
   "file_extension": ".py",
   "mimetype": "text/x-python",
   "name": "python",
   "nbconvert_exporter": "python",
   "pygments_lexer": "ipython3",
   "version": "3.10.1"
  },
  "orig_nbformat": 4
 },
 "nbformat": 4,
 "nbformat_minor": 2
}
