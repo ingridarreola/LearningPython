{
 "cells": [
  {
   "cell_type": "markdown",
   "metadata": {},
   "source": [
    "# Calculating Probabilities using Python\n",
    "The `binom.pmf()` method from the `scipy.stats` library can be used to calculate the PMF of the binomial distribution at any value. This method takes 3 values:\n",
    "\n",
    "`x`: the value of interest\n",
    "`n`: the number of trials\n",
    "`p`: the probability of success\n",
    "\n",
    "For example, suppose we flip a fair coin 10 times and count the number of heads. We can use the `binom.pmf()` function to calculate the probability of observing 6 heads as follows:\n",
    "\n",
    "``` {python}\n",
    "\n",
    "# import necessary library\n",
    "import scipy.stats as stats\n",
    " \n",
    "# st.binom.pmf(x, n, p)\n",
    "print(stats.binom.pmf(6, 10, 0.5))\n",
    "\n",
    "```\n",
    "\n",
    "Notice that two of the three values that go into the `stats.binomial.pmf()` method are the parameters that define the binomial distribution: `n` represents the number of trials and `p` represents the probability of success.\n"
   ]
  },
  {
   "cell_type": "code",
   "execution_count": 2,
   "metadata": {},
   "outputs": [
    {
     "name": "stdout",
     "output_type": "stream",
     "text": [
      "Collecting scipy\n",
      "  Downloading scipy-1.8.0-cp310-cp310-macosx_12_0_arm64.whl (28.7 MB)\n",
      "     |████████████████████████████████| 28.7 MB 13.9 MB/s            \n",
      "\u001b[?25hRequirement already satisfied: numpy<1.25.0,>=1.17.3 in /Library/Frameworks/Python.framework/Versions/3.10/lib/python3.10/site-packages (from scipy) (1.22.1)\n",
      "Installing collected packages: scipy\n",
      "Successfully installed scipy-1.8.0\n",
      "\u001b[33mWARNING: You are using pip version 21.3.1; however, version 22.0.3 is available.\n",
      "You should consider upgrading via the '/usr/local/bin/python3 -m pip install --upgrade pip' command.\u001b[0m\n",
      "Note: you may need to restart the kernel to use updated packages.\n"
     ]
    }
   ],
   "source": [
    "pip install scipy"
   ]
  },
  {
   "cell_type": "markdown",
   "metadata": {},
   "source": [
    "### Change the scaffolded code to calculate the probability of observing 3 heads in 10 fair coin flips. Save this probability to prob_1.\n",
    "\n",
    "### Update x and n in script.py accordingly."
   ]
  },
  {
   "cell_type": "code",
   "execution_count": 5,
   "metadata": {},
   "outputs": [
    {
     "name": "stdout",
     "output_type": "stream",
     "text": [
      "0.11718750000000004\n"
     ]
    }
   ],
   "source": [
    "import scipy.stats as stats\n",
    "\n",
    "# value of interest\n",
    "# change this\n",
    "x = 3\n",
    "\n",
    "# sample size\n",
    "# change this\n",
    "n = 10\n",
    "\n",
    "# calculate probability\n",
    "prob_1 = stats.binom.pmf(x, n, 0.5)\n",
    "print(prob_1)\n",
    "\n",
    "# prints out ---> 0.11718750000000004\n",
    "\n",
    "## Question 2\n",
    "#prob_2 = \n"
   ]
  },
  {
   "cell_type": "markdown",
   "metadata": {},
   "source": [
    "### Using the same logic in question 1, calculate prob_2 to be the probability of observing 7 heads out of 20 fair coin flips. However, this time, directly input values into the `stats.binomial.pmf()` method. Then print `prob_2`"
   ]
  },
  {
   "cell_type": "code",
   "execution_count": 6,
   "metadata": {},
   "outputs": [
    {
     "name": "stdout",
     "output_type": "stream",
     "text": [
      "0.07392883300781253\n"
     ]
    }
   ],
   "source": [
    "# value of interest\n",
    "x = 7\n",
    "\n",
    "# sample size\n",
    "n = 20\n",
    "\n",
    "\n",
    "## Question 2\n",
    "prob_2 = stats.binom.pmf(x, n, 0.5)\n",
    "print(prob_2)\n",
    "\n",
    "# prints out --> 0.07392883300781253"
   ]
  }
 ],
 "metadata": {
  "interpreter": {
   "hash": "aee8b7b246df8f9039afb4144a1f6fd8d2ca17a180786b69acc140d282b71a49"
  },
  "kernelspec": {
   "display_name": "Python 3.10.1 64-bit",
   "language": "python",
   "name": "python3"
  },
  "language_info": {
   "codemirror_mode": {
    "name": "ipython",
    "version": 3
   },
   "file_extension": ".py",
   "mimetype": "text/x-python",
   "name": "python",
   "nbconvert_exporter": "python",
   "pygments_lexer": "ipython3",
   "version": "3.10.1"
  },
  "orig_nbformat": 4
 },
 "nbformat": 4,
 "nbformat_minor": 2
}
